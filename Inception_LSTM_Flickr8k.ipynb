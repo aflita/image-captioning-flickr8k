{
  "nbformat": 4,
  "nbformat_minor": 0,
  "metadata": {
    "colab": {
      "name": "Inception_LSTM_Flickr8k.ipynb",
      "provenance": [],
      "collapsed_sections": [],
      "include_colab_link": true
    },
    "kernelspec": {
      "name": "python3",
      "display_name": "Python 3"
    },
    "accelerator": "GPU"
  },
  "cells": [
    {
      "cell_type": "markdown",
      "metadata": {
        "id": "view-in-github",
        "colab_type": "text"
      },
      "source": [
        "<a href=\"https://colab.research.google.com/github/aflita/image-captioning-flickr8k/blob/master/Inception_LSTM_Flickr8k.ipynb\" target=\"_parent\"><img src=\"https://colab.research.google.com/assets/colab-badge.svg\" alt=\"Open In Colab\"/></a>"
      ]
    },
    {
      "cell_type": "code",
      "metadata": {
        "id": "thTXp3Hu9Tb_",
        "colab_type": "code",
        "colab": {}
      },
      "source": [
        "import os\n",
        "os.environ['KAGGLE_USERNAME'] = 'aflita'\n",
        "os.environ['KAGGLE_KEY'] = 'cad9302366db38692e6dfc19fee87783'"
      ],
      "execution_count": 0,
      "outputs": []
    },
    {
      "cell_type": "code",
      "metadata": {
        "id": "VqdY8UyY9XiP",
        "colab_type": "code",
        "colab": {}
      },
      "source": [
        "!rm -rf flickr8k"
      ],
      "execution_count": 0,
      "outputs": []
    },
    {
      "cell_type": "code",
      "metadata": {
        "id": "FxRodKXaFZtv",
        "colab_type": "code",
        "colab": {}
      },
      "source": [
        "import tensorflow as tf\n",
        "import numpy as np\n",
        "import pickle\n",
        "import os\n",
        "from keras.preprocessing.image import load_img\n",
        "from keras.preprocessing.image import img_to_array\n",
        "import numpy as np\n",
        "import pickle\n",
        "from tensorflow.keras.preprocessing.text import Tokenizer\n",
        "from tensorflow.keras.preprocessing.sequence import pad_sequences\n",
        "#from keras.models import Model"
      ],
      "execution_count": 0,
      "outputs": []
    },
    {
      "cell_type": "code",
      "metadata": {
        "id": "WnAdxA4x9qz7",
        "colab_type": "code",
        "outputId": "4160638a-64cb-4d11-f437-a0ffcd2844d5",
        "colab": {
          "base_uri": "https://localhost:8080/",
          "height": 71
        }
      },
      "source": [
        "!kaggle datasets download -d shadabhussain/flickr8k"
      ],
      "execution_count": 3,
      "outputs": [
        {
          "output_type": "stream",
          "text": [
            "Downloading flickr8k.zip to /content\n",
            " 99% 2.11G/2.13G [00:27<00:00, 71.3MB/s]\n",
            "100% 2.13G/2.13G [00:27<00:00, 83.8MB/s]\n"
          ],
          "name": "stdout"
        }
      ]
    },
    {
      "cell_type": "code",
      "metadata": {
        "id": "m-krTwXk9tvx",
        "colab_type": "code",
        "colab": {}
      },
      "source": [
        "!unzip -q flickr8k.zip -d ."
      ],
      "execution_count": 0,
      "outputs": []
    },
    {
      "cell_type": "code",
      "metadata": {
        "id": "joPxfm989x8M",
        "colab_type": "code",
        "colab": {}
      },
      "source": [
        "# Read Image Folder\n",
        "image_folder = '/content/Flickr_Data/Flickr_Data/Images'\n",
        "# Read Annotation Folder\n",
        "annotation_file = '/content/Flickr_Data/Flickr_Data/Flickr_TextData/Flickr8k.token.txt'\n",
        "# Read Training File\n",
        "train_file = '/content/Flickr_Data/Flickr_Data/Flickr_TextData/Flickr_8k.trainImages.txt'\n",
        "# Read Validation File\n",
        "val_file = '/content/Flickr_Data/Flickr_Data/Flickr_TextData/Flickr_8k.devImages.txt'\n",
        "# Read Test File\n",
        "test_file = '/content/Flickr_Data/Flickr_Data/Flickr_TextData/Flickr_8k.testImages.txt'"
      ],
      "execution_count": 0,
      "outputs": []
    },
    {
      "cell_type": "code",
      "metadata": {
        "id": "B-AIOIfi4Y_X",
        "colab_type": "code",
        "colab": {}
      },
      "source": [
        "unique_train = open(train_file, 'r').read().splitlines()\n",
        "unique_val = open(val_file, 'r').read().splitlines()\n",
        "unique_test = open(test_file, 'r').read().splitlines()\n",
        "annotations = open(annotation_file,'r').read().splitlines()"
      ],
      "execution_count": 0,
      "outputs": []
    },
    {
      "cell_type": "code",
      "metadata": {
        "id": "2CN8_pze6kmc",
        "colab_type": "code",
        "outputId": "dad860cd-aa15-4815-9923-20a3601d64b1",
        "colab": {
          "base_uri": "https://localhost:8080/",
          "height": 161
        }
      },
      "source": [
        "# Token\n",
        "# Store 6k Training Lists\n",
        "import re\n",
        "\n",
        "def collect_list(unique_set):\n",
        "  data = []\n",
        "  for idx, el in enumerate(annotations):\n",
        "    # Split Image ID with Captions\n",
        "    fname, cap = re.split(\"#[0-9][\\t]\", el)\n",
        "    cap = cap.split()\n",
        "    cap = [w for w in cap if len(w)>1]\n",
        "    cap = ' '.join(cap)\n",
        "    cap = '<start> ' + cap + ' <end>'\n",
        "    cap = cap.lower()\n",
        "    if fname in unique_set:\n",
        "      data.append([fname,cap])\n",
        "  #  else:\n",
        "  #    continue\n",
        "  return data\n",
        "\n",
        "train_set = collect_list(unique_train)\n",
        "val_set = collect_list(unique_val)\n",
        "test_set = collect_list(unique_test)\n",
        "\n",
        "print('Collected Train Sets: %d' %len(train_set))\n",
        "print('Collected Val Sets: %d' %len(val_set))\n",
        "print('Collected Test Sets: %d' %len(test_set))\n",
        "print('\\n')\n",
        "print('Unique Train Sets: %d' %len(unique_train))\n",
        "print('Unique Val Sets: %d' %len(unique_val))\n",
        "print('Unique Test Sets: %d' %len(unique_test))"
      ],
      "execution_count": 4,
      "outputs": [
        {
          "output_type": "stream",
          "text": [
            "Collected Train Sets: 30000\n",
            "Collected Val Sets: 5000\n",
            "Collected Test Sets: 5000\n",
            "\n",
            "\n",
            "Unique Train Sets: 6000\n",
            "Unique Val Sets: 1000\n",
            "Unique Test Sets: 1000\n"
          ],
          "name": "stdout"
        }
      ]
    },
    {
      "cell_type": "code",
      "metadata": {
        "id": "A4d2u5gkbYjl",
        "colab_type": "code",
        "outputId": "ce8dc61b-e216-4e6b-ed09-70caaa369ef5",
        "colab": {
          "base_uri": "https://localhost:8080/",
          "height": 35
        }
      },
      "source": [
        "# Baseline Model\n",
        "from keras.applications.inception_v3 import InceptionV3, preprocess_input\n",
        "\n",
        "model = tf.keras.applications.InceptionV3(weights='imagenet')\n",
        "\n",
        "model = tf.keras.Model(inputs = model.input,\n",
        "                                outputs = model.layers[-2].output)"
      ],
      "execution_count": 5,
      "outputs": [
        {
          "output_type": "stream",
          "text": [
            "Using TensorFlow backend.\n"
          ],
          "name": "stderr"
        }
      ]
    },
    {
      "cell_type": "code",
      "metadata": {
        "id": "vEDUN9ajqBBV",
        "colab_type": "code",
        "colab": {}
      },
      "source": [
        "def preprocess_image(filename, model):\n",
        "  file = os.path.join(image_folder, filename)\n",
        "  image = load_img(file, target_size=(299, 299, 3))\n",
        "  image = img_to_array(image)\n",
        "  image = preprocess_input(image)\n",
        "  image = np.expand_dims(image, axis=0)    \n",
        "  feature = model.predict(image)\n",
        "  return feature\n",
        "\n",
        "def extract_feature(unique):\n",
        "  features = {}\n",
        "  for i, name in enumerate(unique):\n",
        "      #file = os.path.join(image_folder, name)\n",
        "      feature = preprocess_image(file, model)\n",
        "      features[name] = np.reshape(feature, feature.shape[1])\n",
        "      #print('>%s' % name)\n",
        "  print('Features Extracted: %d' %len(features))\n",
        "  return features"
      ],
      "execution_count": 0,
      "outputs": []
    },
    {
      "cell_type": "code",
      "metadata": {
        "id": "0wRXGli_bY1P",
        "colab_type": "code",
        "colab": {}
      },
      "source": [
        "# Optional\n",
        "# Extract Train Image Features\n",
        "\n",
        "\n",
        "\n",
        "train_features = extract_feature(unique_train)\n",
        "val_features = extract_feature(unique_val)"
      ],
      "execution_count": 0,
      "outputs": []
    },
    {
      "cell_type": "code",
      "metadata": {
        "id": "_hNf4FeCvFl4",
        "colab_type": "code",
        "colab": {}
      },
      "source": [
        "# Save Feature\n",
        "pickle.dump(train_features, open('train_features.pkl','wb'))\n",
        "pickle.dump(val_features, open('val_features.pkl','wb'))\n"
      ],
      "execution_count": 0,
      "outputs": []
    },
    {
      "cell_type": "code",
      "metadata": {
        "id": "9sKeBrg2cNPC",
        "colab_type": "code",
        "colab": {}
      },
      "source": [
        "# Open Features\n",
        "train_path_feature = '/content/train_features.pkl'\n",
        "with open(train_path_feature, 'rb') as ftr:\n",
        "  train_features = pickle.load(ftr, encoding=\"bytes\")\n",
        "\n",
        "val_path_feature = '/content/val_features.pkl'\n",
        "with open(val_path_feature, 'rb') as fvs:\n",
        "  val_features = pickle.load(fvs, encoding=\"bytes\")"
      ],
      "execution_count": 0,
      "outputs": []
    },
    {
      "cell_type": "code",
      "metadata": {
        "id": "3YXSmTX0cNkO",
        "colab_type": "code",
        "outputId": "b33b8bb9-52fb-457d-f671-e8cbce64a286",
        "colab": {
          "base_uri": "https://localhost:8080/",
          "height": 89
        }
      },
      "source": [
        "print(train_features['3296150666_aae2f64348.jpg'].shape), print(len(train_features)), print(len(val_features))"
      ],
      "execution_count": 12,
      "outputs": [
        {
          "output_type": "stream",
          "text": [
            "(2048,)\n",
            "6000\n",
            "1000\n"
          ],
          "name": "stdout"
        },
        {
          "output_type": "execute_result",
          "data": {
            "text/plain": [
              "(None, None, None)"
            ]
          },
          "metadata": {
            "tags": []
          },
          "execution_count": 12
        }
      ]
    },
    {
      "cell_type": "code",
      "metadata": {
        "id": "amSZTAX08G25",
        "colab_type": "code",
        "outputId": "acea59a6-32ab-4820-90b3-15181e3a951b",
        "colab": {
          "base_uri": "https://localhost:8080/",
          "height": 53
        }
      },
      "source": [
        "# Token\n",
        "train_captions = [train[1] for train in train_set]\n",
        "\n",
        "num_words = 7370\n",
        "oov = '<unk>'\n",
        "filt = '!\"#$%&()*+.,-/:;=?@[\\]^_`{|}~ '\n",
        "\n",
        "tokenizer = Tokenizer(num_words+1, oov_token = oov, filters = filt)\n",
        "tokenizer.fit_on_texts(train_captions)\n",
        "word2index = tokenizer.word_index\n",
        "vocab_size = len(word2index) + 1\n",
        "\n",
        "print('Vocabulary Size: %d' % vocab_size)\n",
        "max_length = max(len(d.split()) for d in train_captions)\n",
        "print('Description Length: %d' % max_length)"
      ],
      "execution_count": 13,
      "outputs": [
        {
          "output_type": "stream",
          "text": [
            "Vocabulary Size: 7369\n",
            "Description Length: 34\n"
          ],
          "name": "stdout"
        }
      ]
    },
    {
      "cell_type": "code",
      "metadata": {
        "id": "Llkx2xLBA84h",
        "colab_type": "code",
        "outputId": "de2b83c9-b432-4625-e2a7-4b411e042d33",
        "colab": {
          "base_uri": "https://localhost:8080/",
          "height": 35
        }
      },
      "source": [
        "# Reverse Index to Word\n",
        "index2word = dict([(value, key) for (key, value) in word2index.items()])\n",
        "\n",
        "# Set Padding as Zero\n",
        "word2index['<pad>'] = 0\n",
        "index2word[0] = '<pad>'\n",
        "\n",
        "# Fit Token to Texts\n",
        "train_seq = tokenizer.texts_to_sequences(train_captions)\n",
        "train_seq[0]"
      ],
      "execution_count": 14,
      "outputs": [
        {
          "output_type": "execute_result",
          "data": {
            "text/plain": [
              "[2, 43, 4, 88, 172, 7, 117, 53, 390, 12, 397, 4, 28, 4438, 629, 3]"
            ]
          },
          "metadata": {
            "tags": []
          },
          "execution_count": 14
        }
      ]
    },
    {
      "cell_type": "code",
      "metadata": {
        "id": "s-AF0RuTOgm2",
        "colab_type": "code",
        "colab": {}
      },
      "source": [
        "def create_sequence(sequence_name):\n",
        "  padded_sequences, subsequent_words = [], []\n",
        "\n",
        "  for seq in sequence_name:\n",
        "      partial_seqs = []\n",
        "      next_words = []\n",
        "      for i in range(1, len(seq)):\n",
        "        partial_seqs.append(seq[:i])\n",
        "        next_words.append(seq[i])\n",
        "      padded_partial_seqs = pad_sequences(partial_seqs, max_length, padding='post')\n",
        "\n",
        "      next_words_1hot = np.zeros([len(next_words), vocab_size], dtype=np.bool)\n",
        "      \n",
        "      #Vectorization\n",
        "      for i,next_word in enumerate(next_words):\n",
        "          next_words_1hot[i, next_word] = 1\n",
        "          \n",
        "      padded_sequences.append(padded_partial_seqs)\n",
        "      subsequent_words.append(next_words_1hot)\n",
        "      \n",
        "  padded_sequences = np.asarray(padded_sequences)\n",
        "  subsequent_words = np.asarray(subsequent_words)\n",
        "  return padded_sequences, subsequent_words"
      ],
      "execution_count": 0,
      "outputs": []
    },
    {
      "cell_type": "code",
      "metadata": {
        "id": "d8hDLLRYO9BC",
        "colab_type": "code",
        "colab": {}
      },
      "source": [
        "padded_sequences, subsequent_words = create_sequence(train_seq)\n",
        "vpadded_sequences, vsubsequent_words = create_sequence(val_seq)\n",
        "\n",
        "print(padded_sequences.shape)\n",
        "print(subsequent_words.shape)\n",
        "print(vpadded_sequences.shape)\n",
        "print(vsubsequent_words.shape)"
      ],
      "execution_count": 0,
      "outputs": []
    },
    {
      "cell_type": "code",
      "metadata": {
        "id": "6Ka9iVPMA-DT",
        "colab_type": "code",
        "outputId": "444f345b-0f92-4bf8-ccd2-d88ac10ec235",
        "colab": {
          "base_uri": "https://localhost:8080/",
          "height": 53
        }
      },
      "source": [
        "padded_sequences, subsequent_words = [], []\n",
        "\n",
        "for seq in train_seq:\n",
        "    partial_seqs = []\n",
        "    next_words = []\n",
        "    for i in range(1, len(seq)):\n",
        "      partial_seqs.append(seq[:i])\n",
        "      next_words.append(seq[i])\n",
        "    padded_partial_seqs = pad_sequences(partial_seqs, max_length, padding='post')\n",
        "\n",
        "    next_words_1hot = np.zeros([len(next_words), vocab_size], dtype=np.bool)\n",
        "    \n",
        "    #Vectorization\n",
        "    for i,next_word in enumerate(next_words):\n",
        "        next_words_1hot[i, next_word] = 1\n",
        "        \n",
        "    padded_sequences.append(padded_partial_seqs)\n",
        "    subsequent_words.append(next_words_1hot)\n",
        "    \n",
        "padded_sequences = np.asarray(padded_sequences)\n",
        "subsequent_words = np.asarray(subsequent_words)\n",
        "\n",
        "print(padded_sequences.shape)\n",
        "print(subsequent_words.shape)"
      ],
      "execution_count": 15,
      "outputs": [
        {
          "output_type": "stream",
          "text": [
            "(30000,)\n",
            "(30000,)\n"
          ],
          "name": "stdout"
        }
      ]
    },
    {
      "cell_type": "code",
      "metadata": {
        "id": "f90ZzfgAA-Y8",
        "colab_type": "code",
        "colab": {}
      },
      "source": [
        "def create_capnext(num_of_images, padded_sequences, subsequent_words, captions, next_words):\n",
        "  captions = np.zeros([0, max_length])\n",
        "  next_words = np.zeros([0, vocab_size])\n",
        "\n",
        "  for i in range(num_of_images):\n",
        "    captions = np.concatenate([captions, padded_sequences[i]])\n",
        "    next_words = np.concatenate([next_words, subsequent_words[i]])\n",
        "    print(i)\n",
        "  \n",
        "  np.save(captions+'npy', captions)\n",
        "  np.save(next_words+'.npy', next_words)\n",
        "  return captions, next_words"
      ],
      "execution_count": 0,
      "outputs": []
    },
    {
      "cell_type": "code",
      "metadata": {
        "id": "5RW6eE1eR_uf",
        "colab_type": "code",
        "colab": {}
      },
      "source": [
        ""
      ],
      "execution_count": 0,
      "outputs": []
    },
    {
      "cell_type": "code",
      "metadata": {
        "id": "pK66pLF3A9_3",
        "colab_type": "code",
        "outputId": "7e5710bf-4a6a-4f6c-8d4a-af369b78dec9",
        "colab": {
          "base_uri": "https://localhost:8080/",
          "height": 71
        }
      },
      "source": [
        "num_of_images = 6000\n",
        "\n",
        "captions = np.zeros([0, max_length])\n",
        "next_words = np.zeros([0, vocab_size])\n",
        "\n",
        "print(captions.shape), print(next_words.shape)"
      ],
      "execution_count": 16,
      "outputs": [
        {
          "output_type": "stream",
          "text": [
            "(0, 34)\n",
            "(0, 7369)\n"
          ],
          "name": "stdout"
        },
        {
          "output_type": "execute_result",
          "data": {
            "text/plain": [
              "(None, None)"
            ]
          },
          "metadata": {
            "tags": []
          },
          "execution_count": 16
        }
      ]
    },
    {
      "cell_type": "code",
      "metadata": {
        "id": "qF22qYVQBi44",
        "colab_type": "code",
        "colab": {}
      },
      "source": [
        "# Store Captions and Next Words to Disk\n",
        "\n",
        "for i in range(num_of_images):\n",
        "  captions = np.concatenate([captions, padded_sequences[i]])\n",
        "  next_words = np.concatenate([next_words, subsequent_words[i]])\n",
        "  print(i)\n",
        "  \n",
        "np.save(\"captions.npy\", captions)\n",
        "np.save(\"next_words.npy\", next_words)\n",
        "\n",
        "print(captions.shape)\n",
        "print(next_words.shape)"
      ],
      "execution_count": 0,
      "outputs": []
    },
    {
      "cell_type": "code",
      "metadata": {
        "id": "236JYX8cvR5Y",
        "colab_type": "code",
        "outputId": "1bd8ffc4-6be1-4318-d550-f9afb4b93795",
        "colab": {
          "base_uri": "https://localhost:8080/",
          "height": 53
        }
      },
      "source": [
        "print(captions.shape)\n",
        "print(next_words.shape)"
      ],
      "execution_count": 19,
      "outputs": [
        {
          "output_type": "stream",
          "text": [
            "(61800, 34)\n",
            "(61800, 7369)\n"
          ],
          "name": "stdout"
        }
      ]
    },
    {
      "cell_type": "code",
      "metadata": {
        "id": "PmtIhPxZdYIi",
        "colab_type": "code",
        "outputId": "555d958f-bc51-4db2-90f6-732fb0c2adb6",
        "colab": {
          "base_uri": "https://localhost:8080/",
          "height": 35
        }
      },
      "source": [
        "imgs = []\n",
        "\n",
        "for i in range(len(train_set)):\n",
        "    if train_set[i][0] in train_features.keys():\n",
        "      imgs.append(list(train_features[train_set[i][0]]))\n",
        "\n",
        "imgs = np.asarray(imgs)\n",
        "print(imgs.shape)"
      ],
      "execution_count": 20,
      "outputs": [
        {
          "output_type": "stream",
          "text": [
            "(30000, 2048)\n"
          ],
          "name": "stdout"
        }
      ]
    },
    {
      "cell_type": "code",
      "metadata": {
        "id": "nholV1UTdYBA",
        "colab_type": "code",
        "outputId": "5567b715-b505-4ae5-dc70-24344b170cd2",
        "colab": {
          "base_uri": "https://localhost:8080/",
          "height": 35
        }
      },
      "source": [
        "images = []\n",
        "\n",
        "for ix in range(6000):#num_of_images\n",
        "    for iy in range(padded_sequences[ix].shape[0]):\n",
        "        images.append(imgs[ix])\n",
        "        \n",
        "images = np.asarray(images)\n",
        "\n",
        "np.save(\"images.npy\", images)\n",
        "\n",
        "print(images.shape)"
      ],
      "execution_count": 21,
      "outputs": [
        {
          "output_type": "stream",
          "text": [
            "(61800, 2048)\n"
          ],
          "name": "stdout"
        }
      ]
    },
    {
      "cell_type": "code",
      "metadata": {
        "id": "WFhGQfpdvpdK",
        "colab_type": "code",
        "outputId": "a4e9c189-c6eb-4e58-85d9-4787e355a2e8",
        "colab": {
          "base_uri": "https://localhost:8080/",
          "height": 35
        }
      },
      "source": [
        "#image_names = []\n",
        "\n",
        "#for ix in range(6000): #num_of_images\n",
        "#    for iy in range(padded_sequences[ix].shape[0]):\n",
        "#        image_names.append(train_set[i][0])\n",
        "        \n",
        "#image_names = np.asarray(image_names)\n",
        "\n",
        "#np.save(\"image_names.npy\", image_names)\n",
        "\n",
        "#print(len(image_names))"
      ],
      "execution_count": 0,
      "outputs": [
        {
          "output_type": "stream",
          "text": [
            "61800\n"
          ],
          "name": "stdout"
        }
      ]
    },
    {
      "cell_type": "markdown",
      "metadata": {
        "id": "AozbunTL7FsZ",
        "colab_type": "text"
      },
      "source": [
        ""
      ]
    },
    {
      "cell_type": "code",
      "metadata": {
        "id": "oDzMvXzs7GSa",
        "colab_type": "code",
        "colab": {}
      },
      "source": [
        "# Token\n",
        "val_captions = [val[1] for val in val_set]\n",
        "\n",
        "tokenizer.fit_on_texts(val_captions)\n",
        "\n",
        "#print('Vocabulary Size: %d' % vocab_size)\n",
        "#max_length = max(len(d.split()) for d in train_captions)\n",
        "#print('Description Length: %d' % max_length)"
      ],
      "execution_count": 0,
      "outputs": []
    },
    {
      "cell_type": "code",
      "metadata": {
        "id": "IA7W04LP7G-P",
        "colab_type": "code",
        "colab": {
          "base_uri": "https://localhost:8080/",
          "height": 35
        },
        "outputId": "ecfd55ff-c814-4c88-ae15-2f592ec602f1"
      },
      "source": [
        "# Fit Token to Texts\n",
        "val_seq = tokenizer.texts_to_sequences(val_captions)\n",
        "val_seq[0]"
      ],
      "execution_count": 23,
      "outputs": [
        {
          "output_type": "execute_result",
          "data": {
            "text/plain": [
              "[2, 43, 8, 18, 17, 23, 1000, 276, 4, 196, 186, 3]"
            ]
          },
          "metadata": {
            "tags": []
          },
          "execution_count": 23
        }
      ]
    },
    {
      "cell_type": "code",
      "metadata": {
        "id": "_Ia2zfgU7G1F",
        "colab_type": "code",
        "colab": {
          "base_uri": "https://localhost:8080/",
          "height": 71
        },
        "outputId": "29d4d1ea-421f-4391-b0bc-abdd8fabde11"
      },
      "source": [
        "vcaptions = np.zeros([0, max_length])\n",
        "vnext_words = np.zeros([0, vocab_size])\n",
        "\n",
        "#print(vcaptions.shape), print(vnext_words.shape)"
      ],
      "execution_count": 31,
      "outputs": [
        {
          "output_type": "stream",
          "text": [
            "(0, 34)\n",
            "(0, 7369)\n"
          ],
          "name": "stdout"
        },
        {
          "output_type": "execute_result",
          "data": {
            "text/plain": [
              "(None, None)"
            ]
          },
          "metadata": {
            "tags": []
          },
          "execution_count": 31
        }
      ]
    },
    {
      "cell_type": "code",
      "metadata": {
        "id": "qtOGHjuJ7GxN",
        "colab_type": "code",
        "colab": {}
      },
      "source": [
        "# Store Captions and Next Words to Disk\n",
        "\n",
        "for i in range(1000):\n",
        "  vcaptions = np.concatenate([vcaptions, vpadded_sequences[i]])\n",
        "  vnext_words = np.concatenate([vnext_words, vsubsequent_words[i]])\n",
        "  print(i)\n",
        "  \n",
        "np.save(\"vcaptions.npy\", vcaptions)\n",
        "np.save(\"vnext_words.npy\", vnext_words)\n",
        "\n",
        "print(vcaptions.shape)\n",
        "print(vnext_words.shape)"
      ],
      "execution_count": 0,
      "outputs": []
    },
    {
      "cell_type": "code",
      "metadata": {
        "id": "Q09j33h51axE",
        "colab_type": "code",
        "colab": {
          "base_uri": "https://localhost:8080/",
          "height": 35
        },
        "outputId": "1fb00a87-a8e7-45c5-ddfe-58e5a0533493"
      },
      "source": [
        "imgs = []\n",
        "\n",
        "for i in range(len(val_set)):\n",
        "    if val_set[i][0] in val_features.keys():\n",
        "      imgs.append(list(val_features[val_set[i][0]]))\n",
        "\n",
        "imgs = np.asarray(imgs)\n",
        "print(imgs.shape)"
      ],
      "execution_count": 33,
      "outputs": [
        {
          "output_type": "stream",
          "text": [
            "(5000, 2048)\n"
          ],
          "name": "stdout"
        }
      ]
    },
    {
      "cell_type": "code",
      "metadata": {
        "id": "JtS5VmaUBgap",
        "colab_type": "code",
        "colab": {
          "base_uri": "https://localhost:8080/",
          "height": 35
        },
        "outputId": "513431ea-acf6-4b24-fb1c-3786a4221747"
      },
      "source": [
        "images = []\n",
        "\n",
        "for ix in range(1000):#num_of_images\n",
        "    for iy in range(vpadded_sequences[ix].shape[0]):\n",
        "        images.append(imgs[ix])\n",
        "        \n",
        "images = np.asarray(images)\n",
        "\n",
        "np.save(\"vimages.npy\", images)\n",
        "\n",
        "print(images.shape)"
      ],
      "execution_count": 34,
      "outputs": [
        {
          "output_type": "stream",
          "text": [
            "(10560, 2048)\n"
          ],
          "name": "stdout"
        }
      ]
    },
    {
      "cell_type": "code",
      "metadata": {
        "id": "hy-DNkFdBjHG",
        "colab_type": "code",
        "colab": {}
      },
      "source": [
        ""
      ],
      "execution_count": 0,
      "outputs": []
    },
    {
      "cell_type": "markdown",
      "metadata": {
        "id": "KlkY6jYNyLDV",
        "colab_type": "text"
      },
      "source": [
        "Model"
      ]
    },
    {
      "cell_type": "code",
      "metadata": {
        "id": "SeSQQ-jgyMFe",
        "colab_type": "code",
        "outputId": "82486483-aec1-414f-ff73-5ab6293f6403",
        "colab": {
          "base_uri": "https://localhost:8080/",
          "height": 71
        }
      },
      "source": [
        "captions = np.load(\"captions.npy\")\n",
        "next_words = np.load(\"next_words.npy\")\n",
        "images = np.load(\"images.npy\")\n",
        "\n",
        "print(captions.shape)\n",
        "print(next_words.shape)\n",
        "print(images.shape)"
      ],
      "execution_count": 36,
      "outputs": [
        {
          "output_type": "stream",
          "text": [
            "(61800, 34)\n",
            "(61800, 7369)\n",
            "(61800, 2048)\n"
          ],
          "name": "stdout"
        }
      ]
    },
    {
      "cell_type": "code",
      "metadata": {
        "id": "pWky5ADDCbEA",
        "colab_type": "code",
        "colab": {
          "base_uri": "https://localhost:8080/",
          "height": 71
        },
        "outputId": "80244ff0-a9ff-41e1-b93d-096283a629f0"
      },
      "source": [
        "vcaptions = np.load(\"vcaptions.npy\")\n",
        "vnext_words = np.load(\"vnext_words.npy\")\n",
        "vimages = np.load(\"vimages.npy\")\n",
        "print(vcaptions.shape)\n",
        "print(vnext_words.shape)\n",
        "print(vimages.shape)"
      ],
      "execution_count": 37,
      "outputs": [
        {
          "output_type": "stream",
          "text": [
            "(10560, 34)\n",
            "(10560, 7369)\n",
            "(10560, 2048)\n"
          ],
          "name": "stdout"
        }
      ]
    },
    {
      "cell_type": "code",
      "metadata": {
        "id": "nRVagWCAyZGh",
        "colab_type": "code",
        "colab": {}
      },
      "source": [
        "embedding_size = 128\n",
        "max_len = max_length"
      ],
      "execution_count": 0,
      "outputs": []
    },
    {
      "cell_type": "code",
      "metadata": {
        "id": "29s9fCmAyZCs",
        "colab_type": "code",
        "colab": {}
      },
      "source": [
        "from keras.models import Sequential, Model\n",
        "from keras.layers import Dense, Flatten,Input, Convolution2D, Dropout, LSTM, TimeDistributed, Embedding, Bidirectional, Activation, RepeatVector,Concatenate\n",
        "\n",
        "\n",
        "image_model = Sequential()\n",
        "\n",
        "image_model.add(Dense(embedding_size, input_shape=(2048,), activation='relu'))\n",
        "image_model.add(RepeatVector(max_len))\n",
        "\n",
        "#image_model.summary()\n",
        "\n",
        "language_model = Sequential()\n",
        "\n",
        "language_model.add(Embedding(input_dim=vocab_size, output_dim=embedding_size, input_length=max_len))\n",
        "language_model.add(LSTM(256, return_sequences=True))\n",
        "language_model.add(TimeDistributed(Dense(embedding_size)))\n",
        "\n",
        "#language_model.summary()\n",
        "\n"
      ],
      "execution_count": 0,
      "outputs": []
    },
    {
      "cell_type": "code",
      "metadata": {
        "id": "gz4JbZ1UyY-k",
        "colab_type": "code",
        "colab": {}
      },
      "source": [
        "conca = Concatenate()([image_model.output, language_model.output])\n",
        "x = LSTM(128, return_sequences=True)(conca)\n",
        "x = LSTM(512, return_sequences=False)(x)\n",
        "x = Dense(vocab_size)(x)\n",
        "out = Activation('softmax')(x)\n",
        "model = Model(inputs=[image_model.input, language_model.input], outputs = out)\n",
        "\n",
        "# model.load_weights(\"../input/model_weights.h5\")\n",
        "model.compile(loss='categorical_crossentropy', optimizer='RMSprop', metrics=['accuracy'])\n",
        "#model.summary()"
      ],
      "execution_count": 0,
      "outputs": []
    },
    {
      "cell_type": "code",
      "metadata": {
        "id": "F5LlupixlZMo",
        "colab_type": "code",
        "colab": {}
      },
      "source": [
        "from keras.callbacks import ModelCheckpoint\n",
        "\n",
        "# define checkpoint callback\n",
        "filepath = 'model-ep{epoch:03d}-loss{loss:.3f}-val_loss{val_loss:.3f}.h5'\n",
        "checkpoint = ModelCheckpoint(filepath, monitor='val_loss', verbose=1, save_best_only=True, mode='min')"
      ],
      "execution_count": 0,
      "outputs": []
    },
    {
      "cell_type": "code",
      "metadata": {
        "id": "kNsD9Z5pyY7b",
        "colab_type": "code",
        "outputId": "15f14a4c-d62d-4acd-ad13-06c66af2d7ca",
        "colab": {
          "base_uri": "https://localhost:8080/",
          "height": 1000
        }
      },
      "source": [
        "hist = model.fit([images, captions], next_words, batch_size=309, epochs=200, callbacks=[checkpoint], validation_data=([vimages, vcaptions], vnext_words))"
      ],
      "execution_count": 44,
      "outputs": [
        {
          "output_type": "stream",
          "text": [
            "Train on 61800 samples, validate on 10560 samples\n",
            "Epoch 1/200\n",
            "61800/61800 [==============================] - 97s 2ms/step - loss: 5.6392 - accuracy: 0.1049 - val_loss: 5.7010 - val_accuracy: 0.1045\n",
            "\n",
            "Epoch 00001: val_loss improved from inf to 5.70096, saving model to model-ep001-loss5.639-val_loss5.701.h5\n",
            "Epoch 2/200\n",
            "61800/61800 [==============================] - 97s 2ms/step - loss: 5.6785 - accuracy: 0.0973 - val_loss: 5.7844 - val_accuracy: 0.0947\n",
            "\n",
            "Epoch 00002: val_loss did not improve from 5.70096\n",
            "Epoch 3/200\n",
            "61800/61800 [==============================] - 96s 2ms/step - loss: 5.6622 - accuracy: 0.0971 - val_loss: 5.7732 - val_accuracy: 0.0947\n",
            "\n",
            "Epoch 00003: val_loss did not improve from 5.70096\n",
            "Epoch 4/200\n",
            "61800/61800 [==============================] - 96s 2ms/step - loss: 5.6118 - accuracy: 0.1013 - val_loss: 5.7049 - val_accuracy: 0.1051\n",
            "\n",
            "Epoch 00004: val_loss did not improve from 5.70096\n",
            "Epoch 5/200\n",
            "61800/61800 [==============================] - 95s 2ms/step - loss: 5.5066 - accuracy: 0.1081 - val_loss: 5.6906 - val_accuracy: 0.1050\n",
            "\n",
            "Epoch 00005: val_loss improved from 5.70096 to 5.69059, saving model to model-ep005-loss5.507-val_loss5.691.h5\n",
            "Epoch 6/200\n",
            "61800/61800 [==============================] - 95s 2ms/step - loss: 5.5031 - accuracy: 0.1070 - val_loss: 5.7106 - val_accuracy: 0.1050\n",
            "\n",
            "Epoch 00006: val_loss did not improve from 5.69059\n",
            "Epoch 7/200\n",
            "61800/61800 [==============================] - 95s 2ms/step - loss: 5.4797 - accuracy: 0.1091 - val_loss: 5.7103 - val_accuracy: 0.1062\n",
            "\n",
            "Epoch 00007: val_loss did not improve from 5.69059\n",
            "Epoch 8/200\n",
            "61800/61800 [==============================] - 95s 2ms/step - loss: 5.3711 - accuracy: 0.1174 - val_loss: 5.7252 - val_accuracy: 0.1202\n",
            "\n",
            "Epoch 00008: val_loss did not improve from 5.69059\n",
            "Epoch 9/200\n",
            "61800/61800 [==============================] - 98s 2ms/step - loss: 5.2539 - accuracy: 0.1274 - val_loss: 5.6989 - val_accuracy: 0.1273\n",
            "\n",
            "Epoch 00009: val_loss did not improve from 5.69059\n",
            "Epoch 10/200\n",
            "61800/61800 [==============================] - 97s 2ms/step - loss: 5.1774 - accuracy: 0.1303 - val_loss: 5.7248 - val_accuracy: 0.1248\n",
            "\n",
            "Epoch 00010: val_loss did not improve from 5.69059\n",
            "Epoch 11/200\n",
            "61491/61800 [============================>.] - ETA: 0s - loss: 5.1112 - accuracy: 0.1352\n",
            "Epoch 00011: val_loss did not improve from 5.69059\n",
            "Epoch 12/200\n",
            "61800/61800 [==============================] - 94s 2ms/step - loss: 5.0477 - accuracy: 0.1408 - val_loss: 5.8018 - val_accuracy: 0.1278\n",
            "\n",
            "Epoch 00012: val_loss did not improve from 5.69059\n",
            "Epoch 13/200\n",
            "61800/61800 [==============================] - 94s 2ms/step - loss: 4.9689 - accuracy: 0.1565 - val_loss: 5.7787 - val_accuracy: 0.1405\n",
            "\n",
            "Epoch 00013: val_loss did not improve from 5.69059\n",
            "Epoch 14/200\n",
            "61800/61800 [==============================] - 95s 2ms/step - loss: 4.8622 - accuracy: 0.1691 - val_loss: 5.7895 - val_accuracy: 0.1466\n",
            "\n",
            "Epoch 00014: val_loss did not improve from 5.69059\n",
            "Epoch 15/200\n",
            "61800/61800 [==============================] - 95s 2ms/step - loss: 4.7968 - accuracy: 0.1756 - val_loss: 5.7698 - val_accuracy: 0.1394\n",
            "\n",
            "Epoch 00015: val_loss did not improve from 5.69059\n",
            "Epoch 16/200\n",
            "61800/61800 [==============================] - 95s 2ms/step - loss: 4.7405 - accuracy: 0.1810 - val_loss: 5.7848 - val_accuracy: 0.1441\n",
            "\n",
            "Epoch 00016: val_loss did not improve from 5.69059\n",
            "Epoch 17/200\n",
            "61800/61800 [==============================] - 99s 2ms/step - loss: 4.6929 - accuracy: 0.1879 - val_loss: 5.8462 - val_accuracy: 0.1463\n",
            "\n",
            "Epoch 00017: val_loss did not improve from 5.69059\n",
            "Epoch 18/200\n",
            "61800/61800 [==============================] - 96s 2ms/step - loss: 4.6454 - accuracy: 0.1896 - val_loss: 5.8369 - val_accuracy: 0.1477\n",
            "\n",
            "Epoch 00018: val_loss did not improve from 5.69059\n",
            "Epoch 19/200\n",
            "61800/61800 [==============================] - 95s 2ms/step - loss: 4.5975 - accuracy: 0.1953 - val_loss: 5.8249 - val_accuracy: 0.1520\n",
            "\n",
            "Epoch 00019: val_loss did not improve from 5.69059\n",
            "Epoch 20/200\n",
            "61800/61800 [==============================] - 95s 2ms/step - loss: 4.5686 - accuracy: 0.2016 - val_loss: 5.8672 - val_accuracy: 0.1473\n",
            "\n",
            "Epoch 00020: val_loss did not improve from 5.69059\n",
            "Epoch 21/200\n",
            "61800/61800 [==============================] - 93s 2ms/step - loss: 4.4121 - accuracy: 0.2150 - val_loss: 5.8645 - val_accuracy: 0.1569\n",
            "\n",
            "Epoch 00021: val_loss did not improve from 5.69059\n",
            "Epoch 22/200\n",
            "61800/61800 [==============================] - 95s 2ms/step - loss: 4.3138 - accuracy: 0.2239 - val_loss: 5.9117 - val_accuracy: 0.1570\n",
            "\n",
            "Epoch 00022: val_loss did not improve from 5.69059\n",
            "Epoch 23/200\n",
            "61800/61800 [==============================] - 95s 2ms/step - loss: 4.2059 - accuracy: 0.2328 - val_loss: 5.9777 - val_accuracy: 0.1532\n",
            "\n",
            "Epoch 00023: val_loss did not improve from 5.69059\n",
            "Epoch 24/200\n",
            "61800/61800 [==============================] - 96s 2ms/step - loss: 4.1193 - accuracy: 0.2418 - val_loss: 6.0472 - val_accuracy: 0.1501\n",
            "\n",
            "Epoch 00024: val_loss did not improve from 5.69059\n",
            "Epoch 25/200\n",
            "61800/61800 [==============================] - 97s 2ms/step - loss: 4.0401 - accuracy: 0.2473 - val_loss: 6.1686 - val_accuracy: 0.1587\n",
            "\n",
            "Epoch 00025: val_loss did not improve from 5.69059\n",
            "Epoch 26/200\n",
            "61800/61800 [==============================] - 95s 2ms/step - loss: 3.9748 - accuracy: 0.2524 - val_loss: 6.0846 - val_accuracy: 0.1562\n",
            "\n",
            "Epoch 00026: val_loss did not improve from 5.69059\n",
            "Epoch 27/200\n",
            "61800/61800 [==============================] - 95s 2ms/step - loss: 3.9125 - accuracy: 0.2565 - val_loss: 6.0712 - val_accuracy: 0.1555\n",
            "\n",
            "Epoch 00027: val_loss did not improve from 5.69059\n",
            "Epoch 28/200\n",
            "61800/61800 [==============================] - 93s 2ms/step - loss: 3.8488 - accuracy: 0.2620 - val_loss: 6.1768 - val_accuracy: 0.1499\n",
            "\n",
            "Epoch 00028: val_loss did not improve from 5.69059\n",
            "Epoch 29/200\n",
            "61800/61800 [==============================] - 93s 2ms/step - loss: 3.7977 - accuracy: 0.2671 - val_loss: 6.1897 - val_accuracy: 0.1500\n",
            "\n",
            "Epoch 00029: val_loss did not improve from 5.69059\n",
            "Epoch 30/200\n",
            "61800/61800 [==============================] - 93s 2ms/step - loss: 3.7510 - accuracy: 0.2706 - val_loss: 6.2362 - val_accuracy: 0.1498\n",
            "\n",
            "Epoch 00030: val_loss did not improve from 5.69059\n",
            "Epoch 31/200\n",
            "61800/61800 [==============================] - 92s 1ms/step - loss: 3.6973 - accuracy: 0.2757 - val_loss: 6.2625 - val_accuracy: 0.1536\n",
            "\n",
            "Epoch 00031: val_loss did not improve from 5.69059\n",
            "Epoch 32/200\n",
            "61800/61800 [==============================] - 92s 1ms/step - loss: 3.6446 - accuracy: 0.2808 - val_loss: 6.2591 - val_accuracy: 0.1520\n",
            "\n",
            "Epoch 00032: val_loss did not improve from 5.69059\n",
            "Epoch 33/200\n",
            "61800/61800 [==============================] - 93s 1ms/step - loss: 3.6010 - accuracy: 0.2845 - val_loss: 6.4124 - val_accuracy: 0.1450\n",
            "\n",
            "Epoch 00033: val_loss did not improve from 5.69059\n",
            "Epoch 34/200\n",
            "61800/61800 [==============================] - 93s 1ms/step - loss: 3.5534 - accuracy: 0.2889 - val_loss: 6.4635 - val_accuracy: 0.1378\n",
            "\n",
            "Epoch 00034: val_loss did not improve from 5.69059\n",
            "Epoch 35/200\n",
            "61800/61800 [==============================] - 92s 1ms/step - loss: 3.5059 - accuracy: 0.2938 - val_loss: 6.5104 - val_accuracy: 0.1488\n",
            "\n",
            "Epoch 00035: val_loss did not improve from 5.69059\n",
            "Epoch 36/200\n",
            "61800/61800 [==============================] - 93s 2ms/step - loss: 3.4610 - accuracy: 0.2964 - val_loss: 6.5248 - val_accuracy: 0.1404\n",
            "\n",
            "Epoch 00036: val_loss did not improve from 5.69059\n",
            "Epoch 37/200\n",
            "61800/61800 [==============================] - 92s 1ms/step - loss: 3.4147 - accuracy: 0.3015 - val_loss: 6.6462 - val_accuracy: 0.1452\n",
            "\n",
            "Epoch 00037: val_loss did not improve from 5.69059\n",
            "Epoch 38/200\n",
            "61800/61800 [==============================] - 92s 1ms/step - loss: 3.3690 - accuracy: 0.3061 - val_loss: 6.6883 - val_accuracy: 0.1417\n",
            "\n",
            "Epoch 00038: val_loss did not improve from 5.69059\n",
            "Epoch 39/200\n",
            "61800/61800 [==============================] - 92s 1ms/step - loss: 3.3179 - accuracy: 0.3118 - val_loss: 6.6859 - val_accuracy: 0.1442\n",
            "\n",
            "Epoch 00039: val_loss did not improve from 5.69059\n",
            "Epoch 40/200\n",
            "61800/61800 [==============================] - 92s 1ms/step - loss: 3.2700 - accuracy: 0.3184 - val_loss: 6.8419 - val_accuracy: 0.1368\n",
            "\n",
            "Epoch 00040: val_loss did not improve from 5.69059\n",
            "Epoch 41/200\n",
            "61800/61800 [==============================] - 92s 1ms/step - loss: 3.2222 - accuracy: 0.3228 - val_loss: 6.8507 - val_accuracy: 0.1366\n",
            "\n",
            "Epoch 00041: val_loss did not improve from 5.69059\n",
            "Epoch 42/200\n",
            "61800/61800 [==============================] - 92s 1ms/step - loss: 3.1713 - accuracy: 0.3275 - val_loss: 6.9318 - val_accuracy: 0.1330\n",
            "\n",
            "Epoch 00042: val_loss did not improve from 5.69059\n",
            "Epoch 43/200\n",
            "61800/61800 [==============================] - 93s 2ms/step - loss: 3.1193 - accuracy: 0.3354 - val_loss: 6.9596 - val_accuracy: 0.1172\n",
            "\n",
            "Epoch 00043: val_loss did not improve from 5.69059\n",
            "Epoch 44/200\n",
            "61800/61800 [==============================] - 93s 2ms/step - loss: 3.0708 - accuracy: 0.3417 - val_loss: 7.1174 - val_accuracy: 0.1324\n",
            "\n",
            "Epoch 00044: val_loss did not improve from 5.69059\n",
            "Epoch 45/200\n",
            "61800/61800 [==============================] - 94s 2ms/step - loss: 3.0120 - accuracy: 0.3476 - val_loss: 7.1708 - val_accuracy: 0.1332\n",
            "\n",
            "Epoch 00045: val_loss did not improve from 5.69059\n",
            "Epoch 46/200\n",
            "61800/61800 [==============================] - 94s 2ms/step - loss: 2.9592 - accuracy: 0.3549 - val_loss: 7.2388 - val_accuracy: 0.1290\n",
            "\n",
            "Epoch 00046: val_loss did not improve from 5.69059\n",
            "Epoch 47/200\n",
            "61800/61800 [==============================] - 94s 2ms/step - loss: 2.9026 - accuracy: 0.3623 - val_loss: 7.3773 - val_accuracy: 0.1282\n",
            "\n",
            "Epoch 00047: val_loss did not improve from 5.69059\n",
            "Epoch 48/200\n",
            "61800/61800 [==============================] - 93s 2ms/step - loss: 2.8492 - accuracy: 0.3701 - val_loss: 7.4230 - val_accuracy: 0.1205\n",
            "\n",
            "Epoch 00048: val_loss did not improve from 5.69059\n",
            "Epoch 49/200\n",
            "61800/61800 [==============================] - 94s 2ms/step - loss: 2.7875 - accuracy: 0.3802 - val_loss: 7.5925 - val_accuracy: 0.1227\n",
            "\n",
            "Epoch 00049: val_loss did not improve from 5.69059\n",
            "Epoch 50/200\n",
            "61800/61800 [==============================] - 94s 2ms/step - loss: 2.7293 - accuracy: 0.3903 - val_loss: 7.7043 - val_accuracy: 0.1262\n",
            "\n",
            "Epoch 00050: val_loss did not improve from 5.69059\n",
            "Epoch 51/200\n",
            "61800/61800 [==============================] - 94s 2ms/step - loss: 2.6682 - accuracy: 0.4010 - val_loss: 7.7934 - val_accuracy: 0.1206\n",
            "\n",
            "Epoch 00051: val_loss did not improve from 5.69059\n",
            "Epoch 52/200\n",
            "61800/61800 [==============================] - 93s 2ms/step - loss: 2.6184 - accuracy: 0.4094 - val_loss: 7.7714 - val_accuracy: 0.1217\n",
            "\n",
            "Epoch 00052: val_loss did not improve from 5.69059\n",
            "Epoch 53/200\n",
            "61800/61800 [==============================] - 94s 2ms/step - loss: 2.5488 - accuracy: 0.4200 - val_loss: 7.9043 - val_accuracy: 0.1190\n",
            "\n",
            "Epoch 00053: val_loss did not improve from 5.69059\n",
            "Epoch 54/200\n",
            "61800/61800 [==============================] - 93s 2ms/step - loss: 2.4984 - accuracy: 0.4314 - val_loss: 7.9577 - val_accuracy: 0.1188\n",
            "\n",
            "Epoch 00054: val_loss did not improve from 5.69059\n",
            "Epoch 55/200\n",
            "61800/61800 [==============================] - 93s 2ms/step - loss: 2.4377 - accuracy: 0.4381 - val_loss: 8.0803 - val_accuracy: 0.1165\n",
            "\n",
            "Epoch 00055: val_loss did not improve from 5.69059\n",
            "Epoch 56/200\n",
            "61800/61800 [==============================] - 94s 2ms/step - loss: 2.3822 - accuracy: 0.4500 - val_loss: 8.2124 - val_accuracy: 0.1187\n",
            "\n",
            "Epoch 00056: val_loss did not improve from 5.69059\n",
            "Epoch 57/200\n",
            "61800/61800 [==============================] - 93s 2ms/step - loss: 2.3313 - accuracy: 0.4585 - val_loss: 8.2334 - val_accuracy: 0.1245\n",
            "\n",
            "Epoch 00057: val_loss did not improve from 5.69059\n",
            "Epoch 58/200\n",
            "61800/61800 [==============================] - 93s 1ms/step - loss: 2.2759 - accuracy: 0.4717 - val_loss: 8.4022 - val_accuracy: 0.1132\n",
            "\n",
            "Epoch 00058: val_loss did not improve from 5.69059\n",
            "Epoch 59/200\n",
            "61800/61800 [==============================] - 94s 2ms/step - loss: 2.2288 - accuracy: 0.4775 - val_loss: 8.3965 - val_accuracy: 0.1152\n",
            "\n",
            "Epoch 00059: val_loss did not improve from 5.69059\n",
            "Epoch 60/200\n",
            "61800/61800 [==============================] - 93s 2ms/step - loss: 2.1729 - accuracy: 0.4904 - val_loss: 8.5439 - val_accuracy: 0.1104\n",
            "\n",
            "Epoch 00060: val_loss did not improve from 5.69059\n",
            "Epoch 61/200\n",
            "61800/61800 [==============================] - 93s 2ms/step - loss: 2.1285 - accuracy: 0.4994 - val_loss: 8.6541 - val_accuracy: 0.1042\n",
            "\n",
            "Epoch 00061: val_loss did not improve from 5.69059\n",
            "Epoch 62/200\n",
            "61800/61800 [==============================] - 92s 1ms/step - loss: 2.0781 - accuracy: 0.5104 - val_loss: 8.7438 - val_accuracy: 0.1151\n",
            "\n",
            "Epoch 00062: val_loss did not improve from 5.69059\n",
            "Epoch 63/200\n",
            "61800/61800 [==============================] - 94s 2ms/step - loss: 2.0425 - accuracy: 0.5181 - val_loss: 8.8227 - val_accuracy: 0.1152\n",
            "\n",
            "Epoch 00063: val_loss did not improve from 5.69059\n",
            "Epoch 64/200\n",
            "61800/61800 [==============================] - 93s 2ms/step - loss: 1.9948 - accuracy: 0.5276 - val_loss: 8.9020 - val_accuracy: 0.1128\n",
            "\n",
            "Epoch 00064: val_loss did not improve from 5.69059\n",
            "Epoch 65/200\n",
            "61800/61800 [==============================] - 93s 1ms/step - loss: 1.9583 - accuracy: 0.5372 - val_loss: 8.9982 - val_accuracy: 0.1107\n",
            "\n",
            "Epoch 00065: val_loss did not improve from 5.69059\n",
            "Epoch 66/200\n",
            "61800/61800 [==============================] - 93s 2ms/step - loss: 1.9177 - accuracy: 0.5463 - val_loss: 9.0910 - val_accuracy: 0.1110\n",
            "\n",
            "Epoch 00066: val_loss did not improve from 5.69059\n",
            "Epoch 67/200\n",
            "61800/61800 [==============================] - 93s 2ms/step - loss: 1.8820 - accuracy: 0.5520 - val_loss: 9.1452 - val_accuracy: 0.1132\n",
            "\n",
            "Epoch 00067: val_loss did not improve from 5.69059\n",
            "Epoch 68/200\n",
            "61800/61800 [==============================] - 93s 2ms/step - loss: 1.8489 - accuracy: 0.5611 - val_loss: 9.3135 - val_accuracy: 0.1075\n",
            "\n",
            "Epoch 00068: val_loss did not improve from 5.69059\n",
            "Epoch 69/200\n",
            "61800/61800 [==============================] - 93s 2ms/step - loss: 1.8115 - accuracy: 0.5664 - val_loss: 9.3773 - val_accuracy: 0.1095\n",
            "\n",
            "Epoch 00069: val_loss did not improve from 5.69059\n",
            "Epoch 70/200\n",
            "61800/61800 [==============================] - 94s 2ms/step - loss: 1.7789 - accuracy: 0.5783 - val_loss: 9.3951 - val_accuracy: 0.1124\n",
            "\n",
            "Epoch 00070: val_loss did not improve from 5.69059\n",
            "Epoch 71/200\n",
            "61800/61800 [==============================] - 94s 2ms/step - loss: 1.7544 - accuracy: 0.5825 - val_loss: 9.4765 - val_accuracy: 0.1136\n",
            "\n",
            "Epoch 00071: val_loss did not improve from 5.69059\n",
            "Epoch 72/200\n",
            "61800/61800 [==============================] - 92s 1ms/step - loss: 1.7245 - accuracy: 0.5884 - val_loss: 9.4762 - val_accuracy: 0.1044\n",
            "\n",
            "Epoch 00072: val_loss did not improve from 5.69059\n",
            "Epoch 73/200\n",
            "61800/61800 [==============================] - 94s 2ms/step - loss: 1.6952 - accuracy: 0.5962 - val_loss: 9.5914 - val_accuracy: 0.1113\n",
            "\n",
            "Epoch 00073: val_loss did not improve from 5.69059\n",
            "Epoch 74/200\n",
            "61800/61800 [==============================] - 93s 2ms/step - loss: 1.6623 - accuracy: 0.6041 - val_loss: 9.5028 - val_accuracy: 0.1171\n",
            "\n",
            "Epoch 00074: val_loss did not improve from 5.69059\n",
            "Epoch 75/200\n",
            "61800/61800 [==============================] - 94s 2ms/step - loss: 1.6509 - accuracy: 0.6050 - val_loss: 9.7401 - val_accuracy: 0.1046\n",
            "\n",
            "Epoch 00075: val_loss did not improve from 5.69059\n",
            "Epoch 76/200\n",
            "61800/61800 [==============================] - 92s 1ms/step - loss: 1.6237 - accuracy: 0.6137 - val_loss: 9.6243 - val_accuracy: 0.1094\n",
            "\n",
            "Epoch 00076: val_loss did not improve from 5.69059\n",
            "Epoch 77/200\n",
            "61800/61800 [==============================] - 93s 2ms/step - loss: 1.6055 - accuracy: 0.6151 - val_loss: 9.7643 - val_accuracy: 0.1100\n",
            "\n",
            "Epoch 00077: val_loss did not improve from 5.69059\n",
            "Epoch 78/200\n",
            "61800/61800 [==============================] - 94s 2ms/step - loss: 1.5817 - accuracy: 0.6205 - val_loss: 9.9197 - val_accuracy: 0.1075\n",
            "\n",
            "Epoch 00078: val_loss did not improve from 5.69059\n",
            "Epoch 79/200\n",
            "61800/61800 [==============================] - 94s 2ms/step - loss: 1.5626 - accuracy: 0.6232 - val_loss: 9.9830 - val_accuracy: 0.1088\n",
            "\n",
            "Epoch 00079: val_loss did not improve from 5.69059\n",
            "Epoch 80/200\n",
            "61800/61800 [==============================] - 92s 1ms/step - loss: 1.5421 - accuracy: 0.6305 - val_loss: 10.0256 - val_accuracy: 0.1059\n",
            "\n",
            "Epoch 00080: val_loss did not improve from 5.69059\n",
            "Epoch 81/200\n",
            "61800/61800 [==============================] - 94s 2ms/step - loss: 1.5246 - accuracy: 0.6332 - val_loss: 10.1857 - val_accuracy: 0.1082\n",
            "\n",
            "Epoch 00081: val_loss did not improve from 5.69059\n",
            "Epoch 82/200\n",
            "61800/61800 [==============================] - 94s 2ms/step - loss: 1.5131 - accuracy: 0.6385 - val_loss: 10.2149 - val_accuracy: 0.1074\n",
            "\n",
            "Epoch 00082: val_loss did not improve from 5.69059\n",
            "Epoch 83/200\n",
            "61800/61800 [==============================] - 93s 2ms/step - loss: 1.4977 - accuracy: 0.6394 - val_loss: 10.0206 - val_accuracy: 0.1098\n",
            "\n",
            "Epoch 00083: val_loss did not improve from 5.69059\n",
            "Epoch 84/200\n",
            "61800/61800 [==============================] - 92s 1ms/step - loss: 1.4802 - accuracy: 0.6450 - val_loss: 10.2465 - val_accuracy: 0.1046\n",
            "\n",
            "Epoch 00084: val_loss did not improve from 5.69059\n",
            "Epoch 85/200\n",
            "61800/61800 [==============================] - 94s 2ms/step - loss: 1.4647 - accuracy: 0.6490 - val_loss: 10.2230 - val_accuracy: 0.1073\n",
            "\n",
            "Epoch 00085: val_loss did not improve from 5.69059\n",
            "Epoch 86/200\n",
            "61800/61800 [==============================] - 94s 2ms/step - loss: 1.4523 - accuracy: 0.6502 - val_loss: 10.3859 - val_accuracy: 0.1044\n",
            "\n",
            "Epoch 00086: val_loss did not improve from 5.69059\n",
            "Epoch 87/200\n",
            "61800/61800 [==============================] - 92s 1ms/step - loss: 1.4393 - accuracy: 0.6524 - val_loss: 10.3376 - val_accuracy: 0.1041\n",
            "\n",
            "Epoch 00087: val_loss did not improve from 5.69059\n",
            "Epoch 88/200\n",
            "61800/61800 [==============================] - 94s 2ms/step - loss: 1.4253 - accuracy: 0.6568 - val_loss: 10.3684 - val_accuracy: 0.1038\n",
            "\n",
            "Epoch 00088: val_loss did not improve from 5.69059\n",
            "Epoch 89/200\n",
            "61800/61800 [==============================] - 93s 2ms/step - loss: 1.4169 - accuracy: 0.6563 - val_loss: 10.4782 - val_accuracy: 0.1049\n",
            "\n",
            "Epoch 00089: val_loss did not improve from 5.69059\n",
            "Epoch 90/200\n",
            "61800/61800 [==============================] - 94s 2ms/step - loss: 1.4020 - accuracy: 0.6616 - val_loss: 10.4093 - val_accuracy: 0.1045\n",
            "\n",
            "Epoch 00090: val_loss did not improve from 5.69059\n",
            "Epoch 91/200\n",
            "61800/61800 [==============================] - 93s 1ms/step - loss: 1.3877 - accuracy: 0.6650 - val_loss: 10.6530 - val_accuracy: 0.1001\n",
            "\n",
            "Epoch 00091: val_loss did not improve from 5.69059\n",
            "Epoch 92/200\n",
            "61800/61800 [==============================] - 93s 2ms/step - loss: 1.3740 - accuracy: 0.6676 - val_loss: 10.5155 - val_accuracy: 0.1092\n",
            "\n",
            "Epoch 00092: val_loss did not improve from 5.69059\n",
            "Epoch 93/200\n",
            "61800/61800 [==============================] - 93s 2ms/step - loss: 1.3709 - accuracy: 0.6685 - val_loss: 10.6510 - val_accuracy: 0.1041\n",
            "\n",
            "Epoch 00093: val_loss did not improve from 5.69059\n",
            "Epoch 94/200\n",
            "61800/61800 [==============================] - 94s 2ms/step - loss: 1.3610 - accuracy: 0.6702 - val_loss: 10.6550 - val_accuracy: 0.1031\n",
            "\n",
            "Epoch 00094: val_loss did not improve from 5.69059\n",
            "Epoch 95/200\n",
            "61800/61800 [==============================] - 93s 2ms/step - loss: 1.3600 - accuracy: 0.6693 - val_loss: 10.6163 - val_accuracy: 0.1056\n",
            "\n",
            "Epoch 00095: val_loss did not improve from 5.69059\n",
            "Epoch 96/200\n",
            "61800/61800 [==============================] - 93s 2ms/step - loss: 1.3455 - accuracy: 0.6738 - val_loss: 10.6584 - val_accuracy: 0.1085\n",
            "\n",
            "Epoch 00096: val_loss did not improve from 5.69059\n",
            "Epoch 97/200\n",
            "61800/61800 [==============================] - 93s 2ms/step - loss: 1.3412 - accuracy: 0.6745 - val_loss: 10.8041 - val_accuracy: 0.0991\n",
            "\n",
            "Epoch 00097: val_loss did not improve from 5.69059\n",
            "Epoch 98/200\n",
            "61800/61800 [==============================] - 93s 2ms/step - loss: 1.3291 - accuracy: 0.6754 - val_loss: 10.8447 - val_accuracy: 0.1037\n",
            "\n",
            "Epoch 00098: val_loss did not improve from 5.69059\n",
            "Epoch 99/200\n",
            "61800/61800 [==============================] - 93s 1ms/step - loss: 1.3233 - accuracy: 0.6794 - val_loss: 10.8265 - val_accuracy: 0.1038\n",
            "\n",
            "Epoch 00099: val_loss did not improve from 5.69059\n",
            "Epoch 100/200\n",
            "61800/61800 [==============================] - 93s 2ms/step - loss: 1.3133 - accuracy: 0.6793 - val_loss: 10.8973 - val_accuracy: 0.0996\n",
            "\n",
            "Epoch 00100: val_loss did not improve from 5.69059\n",
            "Epoch 101/200\n",
            "61800/61800 [==============================] - 93s 2ms/step - loss: 1.3127 - accuracy: 0.6804 - val_loss: 10.7912 - val_accuracy: 0.1071\n",
            "\n",
            "Epoch 00101: val_loss did not improve from 5.69059\n",
            "Epoch 102/200\n",
            "61800/61800 [==============================] - 93s 1ms/step - loss: 1.3037 - accuracy: 0.6822 - val_loss: 10.8568 - val_accuracy: 0.1021\n",
            "\n",
            "Epoch 00102: val_loss did not improve from 5.69059\n",
            "Epoch 103/200\n",
            "61800/61800 [==============================] - 93s 1ms/step - loss: 1.2991 - accuracy: 0.6850 - val_loss: 10.8440 - val_accuracy: 0.1053\n",
            "\n",
            "Epoch 00103: val_loss did not improve from 5.69059\n",
            "Epoch 104/200\n",
            "61800/61800 [==============================] - 93s 1ms/step - loss: 1.2877 - accuracy: 0.6864 - val_loss: 10.9944 - val_accuracy: 0.1039\n",
            "\n",
            "Epoch 00104: val_loss did not improve from 5.69059\n",
            "Epoch 105/200\n",
            "61800/61800 [==============================] - 92s 1ms/step - loss: 1.2868 - accuracy: 0.6861 - val_loss: 10.9035 - val_accuracy: 0.0961\n",
            "\n",
            "Epoch 00105: val_loss did not improve from 5.69059\n",
            "Epoch 106/200\n",
            "61800/61800 [==============================] - 93s 1ms/step - loss: 1.2792 - accuracy: 0.6882 - val_loss: 10.9872 - val_accuracy: 0.1023\n",
            "\n",
            "Epoch 00106: val_loss did not improve from 5.69059\n",
            "Epoch 107/200\n",
            "61800/61800 [==============================] - 93s 2ms/step - loss: 1.2821 - accuracy: 0.6861 - val_loss: 11.0417 - val_accuracy: 0.1085\n",
            "\n",
            "Epoch 00107: val_loss did not improve from 5.69059\n",
            "Epoch 108/200\n",
            "61800/61800 [==============================] - 94s 2ms/step - loss: 1.2719 - accuracy: 0.6880 - val_loss: 11.0904 - val_accuracy: 0.1049\n",
            "\n",
            "Epoch 00108: val_loss did not improve from 5.69059\n",
            "Epoch 109/200\n",
            "61800/61800 [==============================] - 93s 2ms/step - loss: 1.2645 - accuracy: 0.6918 - val_loss: 11.1263 - val_accuracy: 0.1036\n",
            "\n",
            "Epoch 00109: val_loss did not improve from 5.69059\n",
            "Epoch 110/200\n",
            "61800/61800 [==============================] - 93s 2ms/step - loss: 1.2627 - accuracy: 0.6917 - val_loss: 11.1962 - val_accuracy: 0.1021\n",
            "\n",
            "Epoch 00110: val_loss did not improve from 5.69059\n",
            "Epoch 111/200\n",
            "61800/61800 [==============================] - 93s 1ms/step - loss: 1.2542 - accuracy: 0.6932 - val_loss: 11.1811 - val_accuracy: 0.1021\n",
            "\n",
            "Epoch 00111: val_loss did not improve from 5.69059\n",
            "Epoch 112/200\n",
            "61800/61800 [==============================] - 93s 2ms/step - loss: 1.2541 - accuracy: 0.6945 - val_loss: 11.2959 - val_accuracy: 0.1060\n",
            "\n",
            "Epoch 00112: val_loss did not improve from 5.69059\n",
            "Epoch 113/200\n",
            "61800/61800 [==============================] - 93s 2ms/step - loss: 1.2503 - accuracy: 0.6933 - val_loss: 11.2546 - val_accuracy: 0.1039\n",
            "\n",
            "Epoch 00113: val_loss did not improve from 5.69059\n",
            "Epoch 114/200\n",
            "61800/61800 [==============================] - 93s 2ms/step - loss: 1.2451 - accuracy: 0.6938 - val_loss: 11.3377 - val_accuracy: 0.1028\n",
            "\n",
            "Epoch 00114: val_loss did not improve from 5.69059\n",
            "Epoch 115/200\n",
            "61800/61800 [==============================] - 92s 1ms/step - loss: 1.2427 - accuracy: 0.6953 - val_loss: 11.3818 - val_accuracy: 0.1014\n",
            "\n",
            "Epoch 00115: val_loss did not improve from 5.69059\n",
            "Epoch 116/200\n",
            "61800/61800 [==============================] - 93s 2ms/step - loss: 1.2386 - accuracy: 0.6961 - val_loss: 11.4414 - val_accuracy: 0.1079\n",
            "\n",
            "Epoch 00116: val_loss did not improve from 5.69059\n",
            "Epoch 117/200\n",
            "61800/61800 [==============================] - 93s 1ms/step - loss: 1.2295 - accuracy: 0.6967 - val_loss: 11.3310 - val_accuracy: 0.1061\n",
            "\n",
            "Epoch 00117: val_loss did not improve from 5.69059\n",
            "Epoch 118/200\n",
            "61800/61800 [==============================] - 93s 1ms/step - loss: 1.2315 - accuracy: 0.6974 - val_loss: 11.3923 - val_accuracy: 0.1055\n",
            "\n",
            "Epoch 00118: val_loss did not improve from 5.69059\n",
            "Epoch 119/200\n",
            "61800/61800 [==============================] - 93s 1ms/step - loss: 1.2259 - accuracy: 0.6992 - val_loss: 11.5276 - val_accuracy: 0.1052\n",
            "\n",
            "Epoch 00119: val_loss did not improve from 5.69059\n",
            "Epoch 120/200\n",
            "61800/61800 [==============================] - 93s 2ms/step - loss: 1.2261 - accuracy: 0.6982 - val_loss: 11.3783 - val_accuracy: 0.1012\n",
            "\n",
            "Epoch 00120: val_loss did not improve from 5.69059\n",
            "Epoch 121/200\n",
            "61800/61800 [==============================] - 93s 2ms/step - loss: 1.2214 - accuracy: 0.6976 - val_loss: 11.5124 - val_accuracy: 0.1061\n",
            "\n",
            "Epoch 00121: val_loss did not improve from 5.69059\n",
            "Epoch 122/200\n",
            "61800/61800 [==============================] - 93s 1ms/step - loss: 1.2211 - accuracy: 0.6974 - val_loss: 11.5464 - val_accuracy: 0.1028\n",
            "\n",
            "Epoch 00122: val_loss did not improve from 5.69059\n",
            "Epoch 123/200\n",
            "61800/61800 [==============================] - 93s 2ms/step - loss: 1.2127 - accuracy: 0.7008 - val_loss: 11.5282 - val_accuracy: 0.1027\n",
            "\n",
            "Epoch 00123: val_loss did not improve from 5.69059\n",
            "Epoch 124/200\n",
            "61800/61800 [==============================] - 93s 2ms/step - loss: 1.2109 - accuracy: 0.7004 - val_loss: 11.5488 - val_accuracy: 0.1009\n",
            "\n",
            "Epoch 00124: val_loss did not improve from 5.69059\n",
            "Epoch 125/200\n",
            "61800/61800 [==============================] - 92s 1ms/step - loss: 1.2091 - accuracy: 0.7011 - val_loss: 11.6263 - val_accuracy: 0.1089\n",
            "\n",
            "Epoch 00125: val_loss did not improve from 5.69059\n",
            "Epoch 126/200\n",
            "61800/61800 [==============================] - 93s 2ms/step - loss: 1.2046 - accuracy: 0.7002 - val_loss: 11.6093 - val_accuracy: 0.1089\n",
            "\n",
            "Epoch 00126: val_loss did not improve from 5.69059\n",
            "Epoch 127/200\n",
            "61800/61800 [==============================] - 93s 2ms/step - loss: 1.2033 - accuracy: 0.7005 - val_loss: 11.7671 - val_accuracy: 0.1096\n",
            "\n",
            "Epoch 00127: val_loss did not improve from 5.69059\n",
            "Epoch 128/200\n",
            "61800/61800 [==============================] - 94s 2ms/step - loss: 1.2004 - accuracy: 0.7034 - val_loss: 11.5916 - val_accuracy: 0.1051\n",
            "\n",
            "Epoch 00128: val_loss did not improve from 5.69059\n",
            "Epoch 129/200\n",
            "61800/61800 [==============================] - 93s 2ms/step - loss: 1.1984 - accuracy: 0.7030 - val_loss: 11.8290 - val_accuracy: 0.1057\n",
            "\n",
            "Epoch 00129: val_loss did not improve from 5.69059\n",
            "Epoch 130/200\n",
            "61800/61800 [==============================] - 94s 2ms/step - loss: 1.1935 - accuracy: 0.7031 - val_loss: 11.7657 - val_accuracy: 0.1044\n",
            "\n",
            "Epoch 00130: val_loss did not improve from 5.69059\n",
            "Epoch 131/200\n",
            "61800/61800 [==============================] - 94s 2ms/step - loss: 1.1911 - accuracy: 0.7051 - val_loss: 11.8531 - val_accuracy: 0.1067\n",
            "\n",
            "Epoch 00131: val_loss did not improve from 5.69059\n",
            "Epoch 132/200\n",
            "61800/61800 [==============================] - 92s 1ms/step - loss: 1.1911 - accuracy: 0.7031 - val_loss: 11.8871 - val_accuracy: 0.1016\n",
            "\n",
            "Epoch 00132: val_loss did not improve from 5.69059\n",
            "Epoch 133/200\n",
            "61800/61800 [==============================] - 94s 2ms/step - loss: 1.1873 - accuracy: 0.7057 - val_loss: 11.8633 - val_accuracy: 0.1040\n",
            "\n",
            "Epoch 00133: val_loss did not improve from 5.69059\n",
            "Epoch 134/200\n",
            "61800/61800 [==============================] - 93s 2ms/step - loss: 1.1859 - accuracy: 0.7049 - val_loss: 11.9295 - val_accuracy: 0.1039\n",
            "\n",
            "Epoch 00134: val_loss did not improve from 5.69059\n",
            "Epoch 135/200\n",
            "61800/61800 [==============================] - 93s 2ms/step - loss: 1.1826 - accuracy: 0.7073 - val_loss: 11.8673 - val_accuracy: 0.1056\n",
            "\n",
            "Epoch 00135: val_loss did not improve from 5.69059\n",
            "Epoch 136/200\n",
            "61800/61800 [==============================] - 93s 2ms/step - loss: 1.1762 - accuracy: 0.7084 - val_loss: 11.9124 - val_accuracy: 0.1069\n",
            "\n",
            "Epoch 00136: val_loss did not improve from 5.69059\n",
            "Epoch 137/200\n",
            "61800/61800 [==============================] - 93s 2ms/step - loss: 1.1785 - accuracy: 0.7070 - val_loss: 11.8510 - val_accuracy: 0.1015\n",
            "\n",
            "Epoch 00137: val_loss did not improve from 5.69059\n",
            "Epoch 138/200\n",
            "61800/61800 [==============================] - 93s 2ms/step - loss: 1.1733 - accuracy: 0.7086 - val_loss: 12.0579 - val_accuracy: 0.1064\n",
            "\n",
            "Epoch 00138: val_loss did not improve from 5.69059\n",
            "Epoch 139/200\n",
            "61800/61800 [==============================] - 93s 2ms/step - loss: 1.1707 - accuracy: 0.7080 - val_loss: 12.0288 - val_accuracy: 0.1076\n",
            "\n",
            "Epoch 00139: val_loss did not improve from 5.69059\n",
            "Epoch 140/200\n",
            "61800/61800 [==============================] - 94s 2ms/step - loss: 1.1710 - accuracy: 0.7098 - val_loss: 12.1088 - val_accuracy: 0.1042\n",
            "\n",
            "Epoch 00140: val_loss did not improve from 5.69059\n",
            "Epoch 141/200\n",
            "61800/61800 [==============================] - 94s 2ms/step - loss: 1.1698 - accuracy: 0.7075 - val_loss: 12.0365 - val_accuracy: 0.1058\n",
            "\n",
            "Epoch 00141: val_loss did not improve from 5.69059\n",
            "Epoch 142/200\n",
            "61800/61800 [==============================] - 93s 2ms/step - loss: 1.1623 - accuracy: 0.7098 - val_loss: 12.0878 - val_accuracy: 0.0984\n",
            "\n",
            "Epoch 00142: val_loss did not improve from 5.69059\n",
            "Epoch 143/200\n",
            "61800/61800 [==============================] - 94s 2ms/step - loss: 1.1642 - accuracy: 0.7088 - val_loss: 12.1967 - val_accuracy: 0.1027\n",
            "\n",
            "Epoch 00143: val_loss did not improve from 5.69059\n",
            "Epoch 144/200\n",
            "61800/61800 [==============================] - 93s 2ms/step - loss: 1.1665 - accuracy: 0.7091 - val_loss: 12.1679 - val_accuracy: 0.1061\n",
            "\n",
            "Epoch 00144: val_loss did not improve from 5.69059\n",
            "Epoch 145/200\n",
            "61800/61800 [==============================] - 93s 2ms/step - loss: 1.1636 - accuracy: 0.7096 - val_loss: 12.1708 - val_accuracy: 0.1037\n",
            "\n",
            "Epoch 00145: val_loss did not improve from 5.69059\n",
            "Epoch 146/200\n",
            "61800/61800 [==============================] - 94s 2ms/step - loss: 1.1631 - accuracy: 0.7089 - val_loss: 12.2214 - val_accuracy: 0.1024\n",
            "\n",
            "Epoch 00146: val_loss did not improve from 5.69059\n",
            "Epoch 147/200\n",
            "61800/61800 [==============================] - 93s 2ms/step - loss: 1.1635 - accuracy: 0.7084 - val_loss: 12.2386 - val_accuracy: 0.1091\n",
            "\n",
            "Epoch 00147: val_loss did not improve from 5.69059\n",
            "Epoch 148/200\n",
            "61800/61800 [==============================] - 93s 2ms/step - loss: 1.1595 - accuracy: 0.7108 - val_loss: 12.2607 - val_accuracy: 0.1068\n",
            "\n",
            "Epoch 00148: val_loss did not improve from 5.69059\n",
            "Epoch 149/200\n",
            "61800/61800 [==============================] - 93s 2ms/step - loss: 1.1582 - accuracy: 0.7112 - val_loss: 12.2317 - val_accuracy: 0.1063\n",
            "\n",
            "Epoch 00149: val_loss did not improve from 5.69059\n",
            "Epoch 150/200\n",
            "61800/61800 [==============================] - 93s 2ms/step - loss: 1.1533 - accuracy: 0.7113 - val_loss: 12.3455 - val_accuracy: 0.1054\n",
            "\n",
            "Epoch 00150: val_loss did not improve from 5.69059\n",
            "Epoch 151/200\n",
            "61800/61800 [==============================] - 93s 2ms/step - loss: 1.1540 - accuracy: 0.7122 - val_loss: 12.2612 - val_accuracy: 0.1046\n",
            "\n",
            "Epoch 00151: val_loss did not improve from 5.69059\n",
            "Epoch 152/200\n",
            "61800/61800 [==============================] - 93s 1ms/step - loss: 1.1503 - accuracy: 0.7118 - val_loss: 12.3621 - val_accuracy: 0.0995\n",
            "\n",
            "Epoch 00152: val_loss did not improve from 5.69059\n",
            "Epoch 153/200\n",
            "61800/61800 [==============================] - 93s 2ms/step - loss: 1.1474 - accuracy: 0.7134 - val_loss: 12.3155 - val_accuracy: 0.0979\n",
            "\n",
            "Epoch 00153: val_loss did not improve from 5.69059\n",
            "Epoch 154/200\n",
            "61800/61800 [==============================] - 94s 2ms/step - loss: 1.1455 - accuracy: 0.7134 - val_loss: 12.3217 - val_accuracy: 0.0975\n",
            "\n",
            "Epoch 00154: val_loss did not improve from 5.69059\n",
            "Epoch 155/200\n",
            "61800/61800 [==============================] - 93s 2ms/step - loss: 1.1440 - accuracy: 0.7147 - val_loss: 12.4360 - val_accuracy: 0.1067\n",
            "\n",
            "Epoch 00155: val_loss did not improve from 5.69059\n",
            "Epoch 156/200\n",
            "61800/61800 [==============================] - 93s 2ms/step - loss: 1.1448 - accuracy: 0.7144 - val_loss: 12.4898 - val_accuracy: 0.1047\n",
            "\n",
            "Epoch 00156: val_loss did not improve from 5.69059\n",
            "Epoch 157/200\n",
            "61800/61800 [==============================] - 94s 2ms/step - loss: 1.1441 - accuracy: 0.7137 - val_loss: 12.3341 - val_accuracy: 0.0986\n",
            "\n",
            "Epoch 00157: val_loss did not improve from 5.69059\n",
            "Epoch 158/200\n",
            "61800/61800 [==============================] - 93s 2ms/step - loss: 1.1429 - accuracy: 0.7151 - val_loss: 12.4275 - val_accuracy: 0.1054\n",
            "\n",
            "Epoch 00158: val_loss did not improve from 5.69059\n",
            "Epoch 159/200\n",
            "61800/61800 [==============================] - 94s 2ms/step - loss: 1.1409 - accuracy: 0.7135 - val_loss: 12.4469 - val_accuracy: 0.0956\n",
            "\n",
            "Epoch 00159: val_loss did not improve from 5.69059\n",
            "Epoch 160/200\n",
            "61800/61800 [==============================] - 93s 2ms/step - loss: 1.1406 - accuracy: 0.7145 - val_loss: 12.5086 - val_accuracy: 0.1078\n",
            "\n",
            "Epoch 00160: val_loss did not improve from 5.69059\n",
            "Epoch 161/200\n",
            "61800/61800 [==============================] - 93s 2ms/step - loss: 1.1389 - accuracy: 0.7148 - val_loss: 12.4451 - val_accuracy: 0.1027\n",
            "\n",
            "Epoch 00161: val_loss did not improve from 5.69059\n",
            "Epoch 162/200\n",
            "61800/61800 [==============================] - 93s 2ms/step - loss: 1.1381 - accuracy: 0.7137 - val_loss: 12.4973 - val_accuracy: 0.1027\n",
            "\n",
            "Epoch 00162: val_loss did not improve from 5.69059\n",
            "Epoch 163/200\n",
            "61800/61800 [==============================] - 93s 1ms/step - loss: 1.1415 - accuracy: 0.7134 - val_loss: 12.4699 - val_accuracy: 0.1036\n",
            "\n",
            "Epoch 00163: val_loss did not improve from 5.69059\n",
            "Epoch 164/200\n",
            "61800/61800 [==============================] - 93s 2ms/step - loss: 1.1371 - accuracy: 0.7154 - val_loss: 12.5739 - val_accuracy: 0.1020\n",
            "\n",
            "Epoch 00164: val_loss did not improve from 5.69059\n",
            "Epoch 165/200\n",
            "61800/61800 [==============================] - 93s 2ms/step - loss: 1.1337 - accuracy: 0.7163 - val_loss: 12.6073 - val_accuracy: 0.1076\n",
            "\n",
            "Epoch 00165: val_loss did not improve from 5.69059\n",
            "Epoch 166/200\n",
            "61800/61800 [==============================] - 93s 2ms/step - loss: 1.1366 - accuracy: 0.7147 - val_loss: 12.6389 - val_accuracy: 0.0979\n",
            "\n",
            "Epoch 00166: val_loss did not improve from 5.69059\n",
            "Epoch 167/200\n",
            "61800/61800 [==============================] - 93s 2ms/step - loss: 1.1331 - accuracy: 0.7157 - val_loss: 12.6339 - val_accuracy: 0.1074\n",
            "\n",
            "Epoch 00167: val_loss did not improve from 5.69059\n",
            "Epoch 168/200\n",
            "61800/61800 [==============================] - 93s 2ms/step - loss: 1.1341 - accuracy: 0.7165 - val_loss: 12.6128 - val_accuracy: 0.1045\n",
            "\n",
            "Epoch 00168: val_loss did not improve from 5.69059\n",
            "Epoch 169/200\n",
            "61800/61800 [==============================] - 93s 1ms/step - loss: 1.1349 - accuracy: 0.7152 - val_loss: 12.6259 - val_accuracy: 0.1047\n",
            "\n",
            "Epoch 00169: val_loss did not improve from 5.69059\n",
            "Epoch 170/200\n",
            "61800/61800 [==============================] - 92s 1ms/step - loss: 1.1337 - accuracy: 0.7158 - val_loss: 12.6685 - val_accuracy: 0.1012\n",
            "\n",
            "Epoch 00170: val_loss did not improve from 5.69059\n",
            "Epoch 171/200\n",
            "61800/61800 [==============================] - 93s 2ms/step - loss: 1.1336 - accuracy: 0.7160 - val_loss: 12.6248 - val_accuracy: 0.1044\n",
            "\n",
            "Epoch 00171: val_loss did not improve from 5.69059\n",
            "Epoch 172/200\n",
            "61800/61800 [==============================] - 93s 2ms/step - loss: 1.1312 - accuracy: 0.7177 - val_loss: 12.7819 - val_accuracy: 0.1022\n",
            "\n",
            "Epoch 00172: val_loss did not improve from 5.69059\n",
            "Epoch 173/200\n",
            "61800/61800 [==============================] - 92s 1ms/step - loss: 1.1306 - accuracy: 0.7161 - val_loss: 12.7100 - val_accuracy: 0.1043\n",
            "\n",
            "Epoch 00173: val_loss did not improve from 5.69059\n",
            "Epoch 174/200\n",
            "61800/61800 [==============================] - 94s 2ms/step - loss: 1.1314 - accuracy: 0.7157 - val_loss: 12.5548 - val_accuracy: 0.1008\n",
            "\n",
            "Epoch 00174: val_loss did not improve from 5.69059\n",
            "Epoch 175/200\n",
            "61800/61800 [==============================] - 92s 1ms/step - loss: 1.1315 - accuracy: 0.7161 - val_loss: 12.5208 - val_accuracy: 0.1046\n",
            "\n",
            "Epoch 00175: val_loss did not improve from 5.69059\n",
            "Epoch 176/200\n",
            "61800/61800 [==============================] - 93s 1ms/step - loss: 1.1301 - accuracy: 0.7160 - val_loss: 12.6554 - val_accuracy: 0.1051\n",
            "\n",
            "Epoch 00176: val_loss did not improve from 5.69059\n",
            "Epoch 177/200\n",
            "61800/61800 [==============================] - 93s 2ms/step - loss: 1.1292 - accuracy: 0.7159 - val_loss: 12.7606 - val_accuracy: 0.1065\n",
            "\n",
            "Epoch 00177: val_loss did not improve from 5.69059\n",
            "Epoch 178/200\n",
            "61800/61800 [==============================] - 94s 2ms/step - loss: 1.1245 - accuracy: 0.7185 - val_loss: 12.8183 - val_accuracy: 0.1040\n",
            "\n",
            "Epoch 00178: val_loss did not improve from 5.69059\n",
            "Epoch 179/200\n",
            "61800/61800 [==============================] - 92s 1ms/step - loss: 1.1246 - accuracy: 0.7181 - val_loss: 12.9147 - val_accuracy: 0.0999\n",
            "\n",
            "Epoch 00179: val_loss did not improve from 5.69059\n",
            "Epoch 180/200\n",
            "61800/61800 [==============================] - 94s 2ms/step - loss: 1.1256 - accuracy: 0.7156 - val_loss: 12.9192 - val_accuracy: 0.0989\n",
            "\n",
            "Epoch 00180: val_loss did not improve from 5.69059\n",
            "Epoch 181/200\n",
            "61800/61800 [==============================] - 93s 2ms/step - loss: 1.1243 - accuracy: 0.7172 - val_loss: 12.9677 - val_accuracy: 0.1023\n",
            "\n",
            "Epoch 00181: val_loss did not improve from 5.69059\n",
            "Epoch 182/200\n",
            "61800/61800 [==============================] - 93s 2ms/step - loss: 1.1246 - accuracy: 0.7156 - val_loss: 12.9177 - val_accuracy: 0.0995\n",
            "\n",
            "Epoch 00182: val_loss did not improve from 5.69059\n",
            "Epoch 183/200\n",
            "61800/61800 [==============================] - 93s 2ms/step - loss: 1.1203 - accuracy: 0.7184 - val_loss: 13.0604 - val_accuracy: 0.1027\n",
            "\n",
            "Epoch 00183: val_loss did not improve from 5.69059\n",
            "Epoch 184/200\n",
            "61800/61800 [==============================] - 94s 2ms/step - loss: 1.1237 - accuracy: 0.7162 - val_loss: 12.9784 - val_accuracy: 0.1050\n",
            "\n",
            "Epoch 00184: val_loss did not improve from 5.69059\n",
            "Epoch 185/200\n",
            "61800/61800 [==============================] - 92s 1ms/step - loss: 1.1214 - accuracy: 0.7185 - val_loss: 13.0407 - val_accuracy: 0.1027\n",
            "\n",
            "Epoch 00185: val_loss did not improve from 5.69059\n",
            "Epoch 186/200\n",
            "61800/61800 [==============================] - 93s 2ms/step - loss: 1.1236 - accuracy: 0.7178 - val_loss: 13.0028 - val_accuracy: 0.1058\n",
            "\n",
            "Epoch 00186: val_loss did not improve from 5.69059\n",
            "Epoch 187/200\n",
            "61800/61800 [==============================] - 93s 2ms/step - loss: 1.1213 - accuracy: 0.7172 - val_loss: 13.0092 - val_accuracy: 0.1063\n",
            "\n",
            "Epoch 00187: val_loss did not improve from 5.69059\n",
            "Epoch 188/200\n",
            "61800/61800 [==============================] - 94s 2ms/step - loss: 1.1198 - accuracy: 0.7174 - val_loss: 13.0596 - val_accuracy: 0.1079\n",
            "\n",
            "Epoch 00188: val_loss did not improve from 5.69059\n",
            "Epoch 189/200\n",
            "61800/61800 [==============================] - 92s 1ms/step - loss: 1.1203 - accuracy: 0.7188 - val_loss: 12.9271 - val_accuracy: 0.0999\n",
            "\n",
            "Epoch 00189: val_loss did not improve from 5.69059\n",
            "Epoch 190/200\n",
            "61800/61800 [==============================] - 93s 2ms/step - loss: 1.1187 - accuracy: 0.7165 - val_loss: 13.0988 - val_accuracy: 0.1003\n",
            "\n",
            "Epoch 00190: val_loss did not improve from 5.69059\n",
            "Epoch 191/200\n",
            "61800/61800 [==============================] - 93s 2ms/step - loss: 1.1119 - accuracy: 0.7206 - val_loss: 13.2765 - val_accuracy: 0.1023\n",
            "\n",
            "Epoch 00191: val_loss did not improve from 5.69059\n",
            "Epoch 192/200\n",
            "61800/61800 [==============================] - 93s 2ms/step - loss: 1.1163 - accuracy: 0.7186 - val_loss: 13.1578 - val_accuracy: 0.1050\n",
            "\n",
            "Epoch 00192: val_loss did not improve from 5.69059\n",
            "Epoch 193/200\n",
            "61800/61800 [==============================] - 93s 1ms/step - loss: 1.1129 - accuracy: 0.7182 - val_loss: 13.1686 - val_accuracy: 0.1027\n",
            "\n",
            "Epoch 00193: val_loss did not improve from 5.69059\n",
            "Epoch 194/200\n",
            "61800/61800 [==============================] - 93s 2ms/step - loss: 1.1143 - accuracy: 0.7190 - val_loss: 13.2720 - val_accuracy: 0.1069\n",
            "\n",
            "Epoch 00194: val_loss did not improve from 5.69059\n",
            "Epoch 195/200\n",
            "61800/61800 [==============================] - 94s 2ms/step - loss: 1.1142 - accuracy: 0.7186 - val_loss: 13.2994 - val_accuracy: 0.1017\n",
            "\n",
            "Epoch 00195: val_loss did not improve from 5.69059\n",
            "Epoch 196/200\n",
            "61800/61800 [==============================] - 93s 2ms/step - loss: 1.1153 - accuracy: 0.7180 - val_loss: 13.2566 - val_accuracy: 0.1035\n",
            "\n",
            "Epoch 00196: val_loss did not improve from 5.69059\n",
            "Epoch 197/200\n",
            "61800/61800 [==============================] - 93s 2ms/step - loss: 1.1109 - accuracy: 0.7196 - val_loss: 13.2239 - val_accuracy: 0.1027\n",
            "\n",
            "Epoch 00197: val_loss did not improve from 5.69059\n",
            "Epoch 198/200\n",
            "61800/61800 [==============================] - 93s 2ms/step - loss: 1.1160 - accuracy: 0.7178 - val_loss: 13.1497 - val_accuracy: 0.1056\n",
            "\n",
            "Epoch 00198: val_loss did not improve from 5.69059\n",
            "Epoch 199/200\n",
            "61800/61800 [==============================] - 93s 2ms/step - loss: 1.1133 - accuracy: 0.7196 - val_loss: 13.3073 - val_accuracy: 0.1002\n",
            "\n",
            "Epoch 00199: val_loss did not improve from 5.69059\n",
            "Epoch 200/200\n",
            "61800/61800 [==============================] - 92s 1ms/step - loss: 1.1100 - accuracy: 0.7200 - val_loss: 13.1487 - val_accuracy: 0.1033\n",
            "\n",
            "Epoch 00200: val_loss did not improve from 5.69059\n"
          ],
          "name": "stdout"
        }
      ]
    },
    {
      "cell_type": "code",
      "metadata": {
        "id": "6Xk_qJcqN747",
        "colab_type": "code",
        "colab": {
          "base_uri": "https://localhost:8080/",
          "height": 573
        },
        "outputId": "b48c798c-3c32-462b-962a-e8efe6127005"
      },
      "source": [
        "import matplotlib.pyplot as plt\n",
        "\n",
        "# summarize history for accuracy\n",
        "plt.plot(hist.history['accuracy'])\n",
        "plt.plot(hist.history['val_accuracy'])\n",
        "plt.title('model accuracy')\n",
        "plt.ylabel('accuracy')\n",
        "plt.xlabel('epoch')\n",
        "plt.legend(['train', 'test'], loc='upper left')\n",
        "plt.show()\n",
        "\n",
        "# summarize history for loss\n",
        "plt.plot(hist.history['loss'])\n",
        "plt.plot(hist.history['val_loss'])\n",
        "plt.title('model loss')\n",
        "plt.ylabel('loss')\n",
        "plt.xlabel('epoch')\n",
        "plt.legend(['train', 'test'], loc='upper left')\n",
        "plt.show()"
      ],
      "execution_count": 46,
      "outputs": [
        {
          "output_type": "display_data",
          "data": {
            "image/png": "[encoded data removed]",
            "text/plain": [
              "<Figure size 432x288 with 1 Axes>"
            ]
          },
          "metadata": {
            "tags": [],
            "needs_background": "light"
          }
        },
        {
          "output_type": "display_data",
          "data": {
            "image/png": "[encoded data removed]",
            "text/plain": [
              "<Figure size 432x288 with 1 Axes>"
            ]
          },
          "metadata": {
            "tags": [],
            "needs_background": "light"
          }
        }
      ]
    },
    {
      "cell_type": "code",
      "metadata": {
        "id": "lIUGBqwMyY3q",
        "colab_type": "code",
        "colab": {}
      },
      "source": [
        "model.save_weights(\"model_200.h5\")"
      ],
      "execution_count": 0,
      "outputs": []
    },
    {
      "cell_type": "code",
      "metadata": {
        "id": "EgPGiBTZ2EHu",
        "colab_type": "code",
        "outputId": "59f516ff-286a-4c7b-d8d3-8dd8b79f9343",
        "colab": {
          "base_uri": "https://localhost:8080/",
          "height": 35
        }
      },
      "source": [
        "from google.colab import drive\n",
        "drive.mount('/content/gdrive')"
      ],
      "execution_count": 39,
      "outputs": [
        {
          "output_type": "stream",
          "text": [
            "Drive already mounted at /content/gdrive; to attempt to forcibly remount, call drive.mount(\"/content/gdrive\", force_remount=True).\n"
          ],
          "name": "stdout"
        }
      ]
    },
    {
      "cell_type": "code",
      "metadata": {
        "id": "o5fxRu-Z18FO",
        "colab_type": "code",
        "colab": {}
      },
      "source": [
        "!cp -r /content/next_words.npy '/content/gdrive/My Drive/'\n",
        "!cp -r /content/captions.npy '/content/gdrive/My Drive/'"
      ],
      "execution_count": 0,
      "outputs": []
    },
    {
      "cell_type": "code",
      "metadata": {
        "id": "sgFt6CYYxeaj",
        "colab_type": "code",
        "colab": {}
      },
      "source": [
        "!cp -r /content/train_features.pkl '/content/gdrive/My Drive/'"
      ],
      "execution_count": 0,
      "outputs": []
    },
    {
      "cell_type": "code",
      "metadata": {
        "id": "XRY-rA77VZiT",
        "colab_type": "code",
        "colab": {}
      },
      "source": [
        ""
      ],
      "execution_count": 0,
      "outputs": []
    },
    {
      "cell_type": "markdown",
      "metadata": {
        "id": "klHO0dsWY87r",
        "colab_type": "text"
      },
      "source": [
        ""
      ]
    },
    {
      "cell_type": "markdown",
      "metadata": {
        "id": "XhLN_nkFVTXd",
        "colab_type": "text"
      },
      "source": [
        "Predict"
      ]
    },
    {
      "cell_type": "code",
      "metadata": {
        "id": "woJ_Z5RCVatU",
        "colab_type": "code",
        "colab": {}
      },
      "source": [
        "inception = tf.keras.applications.InceptionV3(weights='imagenet')\n",
        "inception = tf.keras.Model(inputs = inception.input,\n",
        "                                outputs = inception.layers[-2].output)"
      ],
      "execution_count": 0,
      "outputs": []
    },
    {
      "cell_type": "code",
      "metadata": {
        "id": "3Fyww-flY-GZ",
        "colab_type": "code",
        "colab": {}
      },
      "source": [
        "def preprocess_image(file):\n",
        "  file = os.path.join(image_folder, file)\n",
        "  image = load_img(file, target_size=(299, 299, 3))\n",
        "  image = img_to_array(image)\n",
        "  image = preprocess_input(image)\n",
        "  image = np.expand_dims(image, axis=0)    \n",
        "  return image\n",
        "\n",
        "def extract_feature(model, image):\n",
        "  #features = {}\n",
        "  #for i, name in enumerate(unique):\n",
        "  #file = os.path.join(image_folder, name)\n",
        "  feature = preprocess_image(image)\n",
        "  feature = model.predict(image)\n",
        "  features[name] = np.reshape(feature, feature.shape[1])\n",
        "  #print('>%s' % name)\n",
        "  #print('Features Extracted: %d' %len(features))\n",
        "  return features"
      ],
      "execution_count": 0,
      "outputs": []
    },
    {
      "cell_type": "code",
      "metadata": {
        "id": "4-vI-CK9aInU",
        "colab_type": "code",
        "colab": {}
      },
      "source": [
        "test_img = os.path.join(image_folder,unique_test[0])"
      ],
      "execution_count": 0,
      "outputs": []
    },
    {
      "cell_type": "code",
      "metadata": {
        "id": "AhzRRMJfV9aZ",
        "colab_type": "code",
        "colab": {}
      },
      "source": [
        "#test = extract_feature(inception,test_img)\n",
        "image = preprocess_image(test_img)\n",
        "feature = inception.predict(image)\n",
        "feature = np.reshape(feature, feature.shape[1])"
      ],
      "execution_count": 0,
      "outputs": []
    },
    {
      "cell_type": "code",
      "metadata": {
        "id": "lhvceJg2ZBC1",
        "colab_type": "code",
        "colab": {
          "base_uri": "https://localhost:8080/",
          "height": 35
        },
        "outputId": "cef2ac8f-8886-40cd-9eff-e56dbae31c42"
      },
      "source": [
        "feature.shape"
      ],
      "execution_count": 97,
      "outputs": [
        {
          "output_type": "execute_result",
          "data": {
            "text/plain": [
              "(2048,)"
            ]
          },
          "metadata": {
            "tags": []
          },
          "execution_count": 97
        }
      ]
    },
    {
      "cell_type": "code",
      "metadata": {
        "id": "guvw1y3XV4Sp",
        "colab_type": "code",
        "colab": {}
      },
      "source": [
        "def predict_captions(image):\n",
        "    start_word = [\"<start>\"]\n",
        "    while True:\n",
        "        par_caps = [word2index[i] for i in start_word]\n",
        "        par_caps = pad_sequences([par_caps], maxlen=max_length, padding='post')\n",
        "        preds = model.predict([np.array([image]), np.array(par_caps)])\n",
        "        word_pred = index2word[np.argmax(preds[0])]\n",
        "        start_word.append(word_pred)\n",
        "        \n",
        "        if word_pred == \"<end>\" or len(start_word) > max_len:\n",
        "            break\n",
        "            \n",
        "    return ' '.join(start_word[1:-1])\n",
        "\n",
        "Argmax_Search = predict_captions(feature)"
      ],
      "execution_count": 0,
      "outputs": []
    },
    {
      "cell_type": "code",
      "metadata": {
        "id": "Nw8ViW_-eaA8",
        "colab_type": "code",
        "colab": {}
      },
      "source": [
        "from IPython.display import Image, display"
      ],
      "execution_count": 0,
      "outputs": []
    },
    {
      "cell_type": "code",
      "metadata": {
        "id": "_HcW37Lfd_vh",
        "colab_type": "code",
        "colab": {
          "base_uri": "https://localhost:8080/",
          "height": 370
        },
        "outputId": "dfcb530a-f573-496c-828a-8194204e5ee6"
      },
      "source": [
        "z = Image(filename=test_img)\n",
        "display(z)\n",
        "\n",
        "print(Argmax_Search)"
      ],
      "execution_count": 102,
      "outputs": [
        {
          "output_type": "display_data",
          "data": {
            "image/jpeg": "[encoded data removed]",
            "text/plain": [
              "<IPython.core.display.Image object>"
            ]
          },
          "metadata": {
            "tags": []
          }
        },
        {
          "output_type": "stream",
          "text": [
            "man in red shorts standing on rocks by stream\n"
          ],
          "name": "stdout"
        }
      ]
    },
    {
      "cell_type": "markdown",
      "metadata": {
        "id": "Iant8sJyxcSl",
        "colab_type": "text"
      },
      "source": [
        ""
      ]
    },
    {
      "cell_type": "code",
      "metadata": {
        "id": "9ZGxeN_NyY0E",
        "colab_type": "code",
        "colab": {}
      },
      "source": [
        "#######################################################################################"
      ],
      "execution_count": 0,
      "outputs": []
    },
    {
      "cell_type": "code",
      "metadata": {
        "id": "HSYq4tjbyxRe",
        "colab_type": "code",
        "colab": {}
      },
      "source": [
        "######################################################################################"
      ],
      "execution_count": 0,
      "outputs": []
    },
    {
      "cell_type": "code",
      "metadata": {
        "id": "jl-xuPtzZVMR",
        "colab_type": "code",
        "colab": {}
      },
      "source": [
        ""
      ],
      "execution_count": 0,
      "outputs": []
    },
    {
      "cell_type": "code",
      "metadata": {
        "id": "XdVOo1AYxBS0",
        "colab_type": "code",
        "colab": {}
      },
      "source": [
        "########################################################################################"
      ],
      "execution_count": 0,
      "outputs": []
    },
    {
      "cell_type": "code",
      "metadata": {
        "id": "Uf_Z7U9vZUdW",
        "colab_type": "code",
        "colab": {}
      },
      "source": [
        ""
      ],
      "execution_count": 0,
      "outputs": []
    },
    {
      "cell_type": "code",
      "metadata": {
        "id": "wBcSGcF25Sl0",
        "colab_type": "code",
        "colab": {}
      },
      "source": [
        "########################################################################################"
      ],
      "execution_count": 0,
      "outputs": []
    },
    {
      "cell_type": "code",
      "metadata": {
        "id": "_5a8tBUJ9kbc",
        "colab_type": "code",
        "colab": {}
      },
      "source": [
        "#########################################################################################"
      ],
      "execution_count": 0,
      "outputs": []
    }
  ]
}